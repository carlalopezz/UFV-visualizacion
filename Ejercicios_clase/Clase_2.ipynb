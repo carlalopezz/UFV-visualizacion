{
  "nbformat": 4,
  "nbformat_minor": 0,
  "metadata": {
    "colab": {
      "provenance": [],
      "authorship_tag": "ABX9TyOoz27SVAQS3gF3qzI237cp",
      "include_colab_link": true
    },
    "kernelspec": {
      "name": "python3",
      "display_name": "Python 3"
    },
    "language_info": {
      "name": "python"
    }
  },
  "cells": [
    {
      "cell_type": "markdown",
      "metadata": {
        "id": "view-in-github",
        "colab_type": "text"
      },
      "source": [
        "<a href=\"https://colab.research.google.com/github/carlalopezz/UFV-visualizacion/blob/main/Ejercicios_clase/Clase_2.ipynb\" target=\"_parent\"><img src=\"https://colab.research.google.com/assets/colab-badge.svg\" alt=\"Open In Colab\"/></a>"
      ]
    },
    {
      "cell_type": "code",
      "execution_count": 1,
      "metadata": {
        "colab": {
          "base_uri": "https://localhost:8080/"
        },
        "id": "UD37d-6BZeGB",
        "outputId": "e0eeed6e-5cf2-479b-f5d6-47a2a15e2ea5"
      },
      "outputs": [
        {
          "output_type": "stream",
          "name": "stdout",
          "text": [
            "Collecting plotly_express\n",
            "  Downloading plotly_express-0.4.1-py2.py3-none-any.whl.metadata (1.7 kB)\n",
            "Requirement already satisfied: pandas>=0.20.0 in /usr/local/lib/python3.10/dist-packages (from plotly_express) (2.2.2)\n",
            "Requirement already satisfied: plotly>=4.1.0 in /usr/local/lib/python3.10/dist-packages (from plotly_express) (5.24.1)\n",
            "Requirement already satisfied: statsmodels>=0.9.0 in /usr/local/lib/python3.10/dist-packages (from plotly_express) (0.14.4)\n",
            "Requirement already satisfied: scipy>=0.18 in /usr/local/lib/python3.10/dist-packages (from plotly_express) (1.13.1)\n",
            "Requirement already satisfied: patsy>=0.5 in /usr/local/lib/python3.10/dist-packages (from plotly_express) (0.5.6)\n",
            "Requirement already satisfied: numpy>=1.11 in /usr/local/lib/python3.10/dist-packages (from plotly_express) (1.26.4)\n",
            "Requirement already satisfied: python-dateutil>=2.8.2 in /usr/local/lib/python3.10/dist-packages (from pandas>=0.20.0->plotly_express) (2.8.2)\n",
            "Requirement already satisfied: pytz>=2020.1 in /usr/local/lib/python3.10/dist-packages (from pandas>=0.20.0->plotly_express) (2024.2)\n",
            "Requirement already satisfied: tzdata>=2022.7 in /usr/local/lib/python3.10/dist-packages (from pandas>=0.20.0->plotly_express) (2024.2)\n",
            "Requirement already satisfied: six in /usr/local/lib/python3.10/dist-packages (from patsy>=0.5->plotly_express) (1.16.0)\n",
            "Requirement already satisfied: tenacity>=6.2.0 in /usr/local/lib/python3.10/dist-packages (from plotly>=4.1.0->plotly_express) (9.0.0)\n",
            "Requirement already satisfied: packaging in /usr/local/lib/python3.10/dist-packages (from plotly>=4.1.0->plotly_express) (24.1)\n",
            "Downloading plotly_express-0.4.1-py2.py3-none-any.whl (2.9 kB)\n",
            "Installing collected packages: plotly_express\n",
            "Successfully installed plotly_express-0.4.1\n"
          ]
        }
      ],
      "source": [
        "!pip install plotly_express\n",
        "import plotly.express as px\n",
        "import pandas as pd"
      ]
    },
    {
      "cell_type": "code",
      "source": [
        "# Lectura de los datos\n",
        "datos = pd.read_csv('datos_ejercicio_ventas.csv', sep=',')\n",
        "datos.head()"
      ],
      "metadata": {
        "colab": {
          "base_uri": "https://localhost:8080/",
          "height": 206
        },
        "id": "nKMGTFplbA2S",
        "outputId": "58cb4640-decd-4b8c-c65b-63c66edd865c"
      },
      "execution_count": 2,
      "outputs": [
        {
          "output_type": "execute_result",
          "data": {
            "text/plain": [
              "         COUNTRY        SUBBRAND  YEAR  MONTH     SCENARIO FORECAST  \\\n",
              "0       Portugal     Lipton (L3)  2023     12  AI_forecast  AI_P02F   \n",
              "1  Great Britain     Lipton (L3)  2023     12  AI_forecast  AI_P10F   \n",
              "2          Spain  Pepsi Max (L3)  2023     12  AI_forecast  AI_P09F   \n",
              "3  Great Britain        7up (L3)  2024     12  AI_forecast  AI_P10F   \n",
              "4        Hungary     Lipton (L3)  2023      9  AI_forecast  AI_P03F   \n",
              "\n",
              "   FORECAST_YEAR         AMOUNT  \n",
              "0         2023.0  754356.237194  \n",
              "1         2023.0  560030.558029  \n",
              "2         2023.0   88501.980847  \n",
              "3         2023.0  363224.511516  \n",
              "4         2023.0  396176.120491  "
            ],
            "text/html": [
              "\n",
              "  <div id=\"df-c6516ad6-5741-4997-994b-9fc19a4f92fc\" class=\"colab-df-container\">\n",
              "    <div>\n",
              "<style scoped>\n",
              "    .dataframe tbody tr th:only-of-type {\n",
              "        vertical-align: middle;\n",
              "    }\n",
              "\n",
              "    .dataframe tbody tr th {\n",
              "        vertical-align: top;\n",
              "    }\n",
              "\n",
              "    .dataframe thead th {\n",
              "        text-align: right;\n",
              "    }\n",
              "</style>\n",
              "<table border=\"1\" class=\"dataframe\">\n",
              "  <thead>\n",
              "    <tr style=\"text-align: right;\">\n",
              "      <th></th>\n",
              "      <th>COUNTRY</th>\n",
              "      <th>SUBBRAND</th>\n",
              "      <th>YEAR</th>\n",
              "      <th>MONTH</th>\n",
              "      <th>SCENARIO</th>\n",
              "      <th>FORECAST</th>\n",
              "      <th>FORECAST_YEAR</th>\n",
              "      <th>AMOUNT</th>\n",
              "    </tr>\n",
              "  </thead>\n",
              "  <tbody>\n",
              "    <tr>\n",
              "      <th>0</th>\n",
              "      <td>Portugal</td>\n",
              "      <td>Lipton (L3)</td>\n",
              "      <td>2023</td>\n",
              "      <td>12</td>\n",
              "      <td>AI_forecast</td>\n",
              "      <td>AI_P02F</td>\n",
              "      <td>2023.0</td>\n",
              "      <td>754356.237194</td>\n",
              "    </tr>\n",
              "    <tr>\n",
              "      <th>1</th>\n",
              "      <td>Great Britain</td>\n",
              "      <td>Lipton (L3)</td>\n",
              "      <td>2023</td>\n",
              "      <td>12</td>\n",
              "      <td>AI_forecast</td>\n",
              "      <td>AI_P10F</td>\n",
              "      <td>2023.0</td>\n",
              "      <td>560030.558029</td>\n",
              "    </tr>\n",
              "    <tr>\n",
              "      <th>2</th>\n",
              "      <td>Spain</td>\n",
              "      <td>Pepsi Max (L3)</td>\n",
              "      <td>2023</td>\n",
              "      <td>12</td>\n",
              "      <td>AI_forecast</td>\n",
              "      <td>AI_P09F</td>\n",
              "      <td>2023.0</td>\n",
              "      <td>88501.980847</td>\n",
              "    </tr>\n",
              "    <tr>\n",
              "      <th>3</th>\n",
              "      <td>Great Britain</td>\n",
              "      <td>7up (L3)</td>\n",
              "      <td>2024</td>\n",
              "      <td>12</td>\n",
              "      <td>AI_forecast</td>\n",
              "      <td>AI_P10F</td>\n",
              "      <td>2023.0</td>\n",
              "      <td>363224.511516</td>\n",
              "    </tr>\n",
              "    <tr>\n",
              "      <th>4</th>\n",
              "      <td>Hungary</td>\n",
              "      <td>Lipton (L3)</td>\n",
              "      <td>2023</td>\n",
              "      <td>9</td>\n",
              "      <td>AI_forecast</td>\n",
              "      <td>AI_P03F</td>\n",
              "      <td>2023.0</td>\n",
              "      <td>396176.120491</td>\n",
              "    </tr>\n",
              "  </tbody>\n",
              "</table>\n",
              "</div>\n",
              "    <div class=\"colab-df-buttons\">\n",
              "\n",
              "  <div class=\"colab-df-container\">\n",
              "    <button class=\"colab-df-convert\" onclick=\"convertToInteractive('df-c6516ad6-5741-4997-994b-9fc19a4f92fc')\"\n",
              "            title=\"Convert this dataframe to an interactive table.\"\n",
              "            style=\"display:none;\">\n",
              "\n",
              "  <svg xmlns=\"http://www.w3.org/2000/svg\" height=\"24px\" viewBox=\"0 -960 960 960\">\n",
              "    <path d=\"M120-120v-720h720v720H120Zm60-500h600v-160H180v160Zm220 220h160v-160H400v160Zm0 220h160v-160H400v160ZM180-400h160v-160H180v160Zm440 0h160v-160H620v160ZM180-180h160v-160H180v160Zm440 0h160v-160H620v160Z\"/>\n",
              "  </svg>\n",
              "    </button>\n",
              "\n",
              "  <style>\n",
              "    .colab-df-container {\n",
              "      display:flex;\n",
              "      gap: 12px;\n",
              "    }\n",
              "\n",
              "    .colab-df-convert {\n",
              "      background-color: #E8F0FE;\n",
              "      border: none;\n",
              "      border-radius: 50%;\n",
              "      cursor: pointer;\n",
              "      display: none;\n",
              "      fill: #1967D2;\n",
              "      height: 32px;\n",
              "      padding: 0 0 0 0;\n",
              "      width: 32px;\n",
              "    }\n",
              "\n",
              "    .colab-df-convert:hover {\n",
              "      background-color: #E2EBFA;\n",
              "      box-shadow: 0px 1px 2px rgba(60, 64, 67, 0.3), 0px 1px 3px 1px rgba(60, 64, 67, 0.15);\n",
              "      fill: #174EA6;\n",
              "    }\n",
              "\n",
              "    .colab-df-buttons div {\n",
              "      margin-bottom: 4px;\n",
              "    }\n",
              "\n",
              "    [theme=dark] .colab-df-convert {\n",
              "      background-color: #3B4455;\n",
              "      fill: #D2E3FC;\n",
              "    }\n",
              "\n",
              "    [theme=dark] .colab-df-convert:hover {\n",
              "      background-color: #434B5C;\n",
              "      box-shadow: 0px 1px 3px 1px rgba(0, 0, 0, 0.15);\n",
              "      filter: drop-shadow(0px 1px 2px rgba(0, 0, 0, 0.3));\n",
              "      fill: #FFFFFF;\n",
              "    }\n",
              "  </style>\n",
              "\n",
              "    <script>\n",
              "      const buttonEl =\n",
              "        document.querySelector('#df-c6516ad6-5741-4997-994b-9fc19a4f92fc button.colab-df-convert');\n",
              "      buttonEl.style.display =\n",
              "        google.colab.kernel.accessAllowed ? 'block' : 'none';\n",
              "\n",
              "      async function convertToInteractive(key) {\n",
              "        const element = document.querySelector('#df-c6516ad6-5741-4997-994b-9fc19a4f92fc');\n",
              "        const dataTable =\n",
              "          await google.colab.kernel.invokeFunction('convertToInteractive',\n",
              "                                                    [key], {});\n",
              "        if (!dataTable) return;\n",
              "\n",
              "        const docLinkHtml = 'Like what you see? Visit the ' +\n",
              "          '<a target=\"_blank\" href=https://colab.research.google.com/notebooks/data_table.ipynb>data table notebook</a>'\n",
              "          + ' to learn more about interactive tables.';\n",
              "        element.innerHTML = '';\n",
              "        dataTable['output_type'] = 'display_data';\n",
              "        await google.colab.output.renderOutput(dataTable, element);\n",
              "        const docLink = document.createElement('div');\n",
              "        docLink.innerHTML = docLinkHtml;\n",
              "        element.appendChild(docLink);\n",
              "      }\n",
              "    </script>\n",
              "  </div>\n",
              "\n",
              "\n",
              "<div id=\"df-50bfeadb-f5ff-4cb2-9582-262fde29d062\">\n",
              "  <button class=\"colab-df-quickchart\" onclick=\"quickchart('df-50bfeadb-f5ff-4cb2-9582-262fde29d062')\"\n",
              "            title=\"Suggest charts\"\n",
              "            style=\"display:none;\">\n",
              "\n",
              "<svg xmlns=\"http://www.w3.org/2000/svg\" height=\"24px\"viewBox=\"0 0 24 24\"\n",
              "     width=\"24px\">\n",
              "    <g>\n",
              "        <path d=\"M19 3H5c-1.1 0-2 .9-2 2v14c0 1.1.9 2 2 2h14c1.1 0 2-.9 2-2V5c0-1.1-.9-2-2-2zM9 17H7v-7h2v7zm4 0h-2V7h2v10zm4 0h-2v-4h2v4z\"/>\n",
              "    </g>\n",
              "</svg>\n",
              "  </button>\n",
              "\n",
              "<style>\n",
              "  .colab-df-quickchart {\n",
              "      --bg-color: #E8F0FE;\n",
              "      --fill-color: #1967D2;\n",
              "      --hover-bg-color: #E2EBFA;\n",
              "      --hover-fill-color: #174EA6;\n",
              "      --disabled-fill-color: #AAA;\n",
              "      --disabled-bg-color: #DDD;\n",
              "  }\n",
              "\n",
              "  [theme=dark] .colab-df-quickchart {\n",
              "      --bg-color: #3B4455;\n",
              "      --fill-color: #D2E3FC;\n",
              "      --hover-bg-color: #434B5C;\n",
              "      --hover-fill-color: #FFFFFF;\n",
              "      --disabled-bg-color: #3B4455;\n",
              "      --disabled-fill-color: #666;\n",
              "  }\n",
              "\n",
              "  .colab-df-quickchart {\n",
              "    background-color: var(--bg-color);\n",
              "    border: none;\n",
              "    border-radius: 50%;\n",
              "    cursor: pointer;\n",
              "    display: none;\n",
              "    fill: var(--fill-color);\n",
              "    height: 32px;\n",
              "    padding: 0;\n",
              "    width: 32px;\n",
              "  }\n",
              "\n",
              "  .colab-df-quickchart:hover {\n",
              "    background-color: var(--hover-bg-color);\n",
              "    box-shadow: 0 1px 2px rgba(60, 64, 67, 0.3), 0 1px 3px 1px rgba(60, 64, 67, 0.15);\n",
              "    fill: var(--button-hover-fill-color);\n",
              "  }\n",
              "\n",
              "  .colab-df-quickchart-complete:disabled,\n",
              "  .colab-df-quickchart-complete:disabled:hover {\n",
              "    background-color: var(--disabled-bg-color);\n",
              "    fill: var(--disabled-fill-color);\n",
              "    box-shadow: none;\n",
              "  }\n",
              "\n",
              "  .colab-df-spinner {\n",
              "    border: 2px solid var(--fill-color);\n",
              "    border-color: transparent;\n",
              "    border-bottom-color: var(--fill-color);\n",
              "    animation:\n",
              "      spin 1s steps(1) infinite;\n",
              "  }\n",
              "\n",
              "  @keyframes spin {\n",
              "    0% {\n",
              "      border-color: transparent;\n",
              "      border-bottom-color: var(--fill-color);\n",
              "      border-left-color: var(--fill-color);\n",
              "    }\n",
              "    20% {\n",
              "      border-color: transparent;\n",
              "      border-left-color: var(--fill-color);\n",
              "      border-top-color: var(--fill-color);\n",
              "    }\n",
              "    30% {\n",
              "      border-color: transparent;\n",
              "      border-left-color: var(--fill-color);\n",
              "      border-top-color: var(--fill-color);\n",
              "      border-right-color: var(--fill-color);\n",
              "    }\n",
              "    40% {\n",
              "      border-color: transparent;\n",
              "      border-right-color: var(--fill-color);\n",
              "      border-top-color: var(--fill-color);\n",
              "    }\n",
              "    60% {\n",
              "      border-color: transparent;\n",
              "      border-right-color: var(--fill-color);\n",
              "    }\n",
              "    80% {\n",
              "      border-color: transparent;\n",
              "      border-right-color: var(--fill-color);\n",
              "      border-bottom-color: var(--fill-color);\n",
              "    }\n",
              "    90% {\n",
              "      border-color: transparent;\n",
              "      border-bottom-color: var(--fill-color);\n",
              "    }\n",
              "  }\n",
              "</style>\n",
              "\n",
              "  <script>\n",
              "    async function quickchart(key) {\n",
              "      const quickchartButtonEl =\n",
              "        document.querySelector('#' + key + ' button');\n",
              "      quickchartButtonEl.disabled = true;  // To prevent multiple clicks.\n",
              "      quickchartButtonEl.classList.add('colab-df-spinner');\n",
              "      try {\n",
              "        const charts = await google.colab.kernel.invokeFunction(\n",
              "            'suggestCharts', [key], {});\n",
              "      } catch (error) {\n",
              "        console.error('Error during call to suggestCharts:', error);\n",
              "      }\n",
              "      quickchartButtonEl.classList.remove('colab-df-spinner');\n",
              "      quickchartButtonEl.classList.add('colab-df-quickchart-complete');\n",
              "    }\n",
              "    (() => {\n",
              "      let quickchartButtonEl =\n",
              "        document.querySelector('#df-50bfeadb-f5ff-4cb2-9582-262fde29d062 button');\n",
              "      quickchartButtonEl.style.display =\n",
              "        google.colab.kernel.accessAllowed ? 'block' : 'none';\n",
              "    })();\n",
              "  </script>\n",
              "</div>\n",
              "\n",
              "    </div>\n",
              "  </div>\n"
            ],
            "application/vnd.google.colaboratory.intrinsic+json": {
              "type": "dataframe",
              "variable_name": "datos",
              "summary": "{\n  \"name\": \"datos\",\n  \"rows\": 18666,\n  \"fields\": [\n    {\n      \"column\": \"COUNTRY\",\n      \"properties\": {\n        \"dtype\": \"category\",\n        \"num_unique_values\": 9,\n        \"samples\": [\n          \"Italy\",\n          \"Great Britain\",\n          \"Denmark\"\n        ],\n        \"semantic_type\": \"\",\n        \"description\": \"\"\n      }\n    },\n    {\n      \"column\": \"SUBBRAND\",\n      \"properties\": {\n        \"dtype\": \"category\",\n        \"num_unique_values\": 6,\n        \"samples\": [\n          \"Lipton (L3)\",\n          \"Pepsi Max (L3)\",\n          \"7up Free (L3)\"\n        ],\n        \"semantic_type\": \"\",\n        \"description\": \"\"\n      }\n    },\n    {\n      \"column\": \"YEAR\",\n      \"properties\": {\n        \"dtype\": \"number\",\n        \"std\": 0,\n        \"min\": 2023,\n        \"max\": 2025,\n        \"num_unique_values\": 3,\n        \"samples\": [\n          2023,\n          2024,\n          2025\n        ],\n        \"semantic_type\": \"\",\n        \"description\": \"\"\n      }\n    },\n    {\n      \"column\": \"MONTH\",\n      \"properties\": {\n        \"dtype\": \"number\",\n        \"std\": 3,\n        \"min\": 1,\n        \"max\": 12,\n        \"num_unique_values\": 12,\n        \"samples\": [\n          5,\n          3,\n          12\n        ],\n        \"semantic_type\": \"\",\n        \"description\": \"\"\n      }\n    },\n    {\n      \"column\": \"SCENARIO\",\n      \"properties\": {\n        \"dtype\": \"category\",\n        \"num_unique_values\": 2,\n        \"samples\": [\n          \"actual\",\n          \"AI_forecast\"\n        ],\n        \"semantic_type\": \"\",\n        \"description\": \"\"\n      }\n    },\n    {\n      \"column\": \"FORECAST\",\n      \"properties\": {\n        \"dtype\": \"category\",\n        \"num_unique_values\": 12,\n        \"samples\": [\n          \"AI_P08F\",\n          \"AI_P12F\"\n        ],\n        \"semantic_type\": \"\",\n        \"description\": \"\"\n      }\n    },\n    {\n      \"column\": \"FORECAST_YEAR\",\n      \"properties\": {\n        \"dtype\": \"number\",\n        \"std\": 0.0,\n        \"min\": 2023.0,\n        \"max\": 2023.0,\n        \"num_unique_values\": 1,\n        \"samples\": [\n          2023.0\n        ],\n        \"semantic_type\": \"\",\n        \"description\": \"\"\n      }\n    },\n    {\n      \"column\": \"AMOUNT\",\n      \"properties\": {\n        \"dtype\": \"number\",\n        \"std\": 1915283.448382496,\n        \"min\": -217120.10313272703,\n        \"max\": 14815628.237867463,\n        \"num_unique_values\": 17121,\n        \"samples\": [\n          2568883.4881238216\n        ],\n        \"semantic_type\": \"\",\n        \"description\": \"\"\n      }\n    }\n  ]\n}"
            }
          },
          "metadata": {},
          "execution_count": 2
        }
      ]
    },
    {
      "cell_type": "markdown",
      "source": [
        "# Preprocesamiento"
      ],
      "metadata": {
        "id": "nRL7cwcwrJBt"
      }
    },
    {
      "cell_type": "markdown",
      "source": [
        "**1. Número de actuals y de forecasts.**"
      ],
      "metadata": {
        "id": "Qk0l0oNsbfjb"
      }
    },
    {
      "cell_type": "code",
      "source": [
        "scenario_counts = datos['SCENARIO'].value_counts()\n",
        "print(scenario_counts)"
      ],
      "metadata": {
        "colab": {
          "base_uri": "https://localhost:8080/"
        },
        "id": "SKD1_nMmbkWa",
        "outputId": "770f03cb-8542-4ea2-cacb-dbe09cc623e4"
      },
      "execution_count": 3,
      "outputs": [
        {
          "output_type": "stream",
          "name": "stdout",
          "text": [
            "SCENARIO\n",
            "AI_forecast    17766\n",
            "actual           900\n",
            "Name: count, dtype: int64\n"
          ]
        }
      ]
    },
    {
      "cell_type": "markdown",
      "source": [
        "**2. Horizonte de predicción**\n",
        "\n",
        "Primero tenemos que quitar los actuals ya que no nos interesan. Como el horizonte de predicción es siempre el mismo, podemos poner cualquiera de los valores introducidos, por simplicidad cogemos el primero."
      ],
      "metadata": {
        "id": "igDLFgTud1dh"
      }
    },
    {
      "cell_type": "code",
      "source": [
        "# Mapear los códigos de pronóstico a meses\n",
        "forecast_map = {\n",
        "    'AI_P02F': 1, 'AI_P03F': 2, 'AI_P04F': 3, 'AI_P05F': 4,\n",
        "    'AI_P06F': 5, 'AI_P07F': 6, 'AI_P08F': 7, 'AI_P09F': 8,\n",
        "    'AI_P10F': 9, 'AI_P11F': 10, 'AI_P12F': 11, 'AI_PF': 12\n",
        "}\n",
        "\n",
        "# Agregar una nueva columna para el mes de pronóstico\n",
        "datos['FORECAST_MONTH'] = datos['FORECAST'].map(forecast_map)\n",
        "\n",
        "# Función para calcular la diferencia en meses entre la fecha de pronóstico y la fecha de los datos\n",
        "def calculate_month_diff(row):\n",
        "    forecast_year = row['FORECAST_YEAR']\n",
        "    forecast_month = row['FORECAST_MONTH']\n",
        "    data_year = row['YEAR']\n",
        "    data_month = row['MONTH']\n",
        "\n",
        "    # Calcular los meses totales para ambas fechas\n",
        "    forecast_total_months = forecast_year * 12 + forecast_month\n",
        "    data_total_months = data_year * 12 + data_month\n",
        "\n",
        "    # Calcular la diferencia en meses\n",
        "    return data_total_months - forecast_total_months\n",
        "\n",
        "# Aplicar la función para calcular la diferencia de meses para cada fila\n",
        "datos['MONTH_DIFF'] = datos.apply(calculate_month_diff, axis=1)\n",
        "\n",
        "# Encontrar la diferencia máxima por país\n",
        "max_diff_per_country = datos.groupby('COUNTRY')['MONTH_DIFF'].max().reset_index()\n",
        "\n",
        "# Mostrar el resultado\n",
        "print(\"Diferencia máxima en meses por país (Horizonte):\")\n",
        "print(max_diff_per_country)"
      ],
      "metadata": {
        "colab": {
          "base_uri": "https://localhost:8080/"
        },
        "id": "v6-9Pxk5d5_v",
        "outputId": "61033f84-c6ac-4cfe-a9d5-96a6cd4e0c2c"
      },
      "execution_count": 4,
      "outputs": [
        {
          "output_type": "stream",
          "name": "stdout",
          "text": [
            "Diferencia máxima en meses por país (Horizonte):\n",
            "         COUNTRY  MONTH_DIFF\n",
            "0          Czech        18.0\n",
            "1        Denmark        18.0\n",
            "2  Great Britain        18.0\n",
            "3        Hungary        18.0\n",
            "4          Italy        18.0\n",
            "5    Netherlands        18.0\n",
            "6         Norway        18.0\n",
            "7       Portugal        18.0\n",
            "8          Spain        18.0\n"
          ]
        }
      ]
    },
    {
      "cell_type": "markdown",
      "source": [
        "**3. Nº países y de productos**"
      ],
      "metadata": {
        "id": "vHNN54Q9hpR-"
      }
    },
    {
      "cell_type": "code",
      "source": [
        "num_paises = datos['COUNTRY'].nunique()\n",
        "num_productos = datos['SUBBRAND'].nunique()\n",
        "\n",
        "print(f'Número de países diferentes: {num_paises}')\n",
        "print(f'Número de productos (submarcas) diferentes: {num_productos}')\n"
      ],
      "metadata": {
        "colab": {
          "base_uri": "https://localhost:8080/"
        },
        "id": "PXDFvL0yh6mc",
        "outputId": "b65eef42-87f1-45bc-e916-2e61b5a958d1"
      },
      "execution_count": 5,
      "outputs": [
        {
          "output_type": "stream",
          "name": "stdout",
          "text": [
            "Número de países diferentes: 9\n",
            "Número de productos (submarcas) diferentes: 6\n"
          ]
        }
      ]
    },
    {
      "cell_type": "markdown",
      "source": [
        "**4. Histórico**\n",
        "\n",
        "El valor más antiguo y el más nuevo."
      ],
      "metadata": {
        "id": "7hH5ePHIiBER"
      }
    },
    {
      "cell_type": "code",
      "source": [
        "# ACTUALS\n",
        "pais_concreto = 'Portugal'\n",
        "datos_actuals_pais = datos[(datos['COUNTRY'] == pais_concreto) & (datos['SCENARIO'] == 'actual')]\n",
        "\n",
        "if datos_actuals_pais.empty:\n",
        "    print(f\"No hay datos de ventas para {pais_concreto} en el escenario 'actuals'.\")\n",
        "else:\n",
        "    anio_minimo = datos_actuals_pais['YEAR'].min()\n",
        "    anio_maximo = datos_actuals_pais['YEAR'].max()\n",
        "\n",
        "    meses_anio_minimo = datos_actuals_pais[datos_actuals_pais['YEAR'] == anio_minimo]['MONTH']\n",
        "    mes_minimo = meses_anio_minimo.min()\n",
        "\n",
        "    meses_anio_maximo = datos_actuals_pais[datos_actuals_pais['YEAR'] == anio_maximo]['MONTH']\n",
        "    mes_maximo = meses_anio_maximo.max()\n",
        "\n",
        "    print(f\"Primera venta en {pais_concreto}: {anio_minimo}-{mes_minimo:02d}\")\n",
        "    print(f\"Última venta en {pais_concreto}: {anio_maximo}-{mes_maximo:02d}\")"
      ],
      "metadata": {
        "colab": {
          "base_uri": "https://localhost:8080/"
        },
        "id": "9DRIt1GxiGO2",
        "outputId": "bc3681f5-0a38-4631-afc9-093ad770cf2d"
      },
      "execution_count": 6,
      "outputs": [
        {
          "output_type": "stream",
          "name": "stdout",
          "text": [
            "Primera venta en Portugal: 2023-01\n",
            "Última venta en Portugal: 2024-08\n"
          ]
        }
      ]
    },
    {
      "cell_type": "markdown",
      "source": [
        "**5. Forecasts distintos**"
      ],
      "metadata": {
        "id": "X7_f0ARGpO-F"
      }
    },
    {
      "cell_type": "code",
      "source": [
        "valores_forecast = datos['FORECAST'].unique()\n",
        "\n",
        "print(f'Los valores únicos de la columna FORECAST son: {valores_forecast}')"
      ],
      "metadata": {
        "colab": {
          "base_uri": "https://localhost:8080/"
        },
        "id": "-q9GrIcZrfhd",
        "outputId": "92c18419-5416-494b-e21a-f718d469ec6a"
      },
      "execution_count": 7,
      "outputs": [
        {
          "output_type": "stream",
          "name": "stdout",
          "text": [
            "Los valores únicos de la columna FORECAST son: ['AI_P02F' 'AI_P10F' 'AI_P09F' 'AI_P03F' 'AI_PF' 'AI_P11F' 'AI_P06F'\n",
            " 'AI_P05F' 'AI_P07F' 'AI_P12F' 'AI_P08F' 'AI_P04F' nan]\n"
          ]
        }
      ]
    },
    {
      "cell_type": "markdown",
      "source": [
        "# **1. Cómo se distribuyen las ventas realizadas en:**\n",
        "\n"
      ],
      "metadata": {
        "id": "qk4CD66Arh0x"
      }
    },
    {
      "cell_type": "code",
      "source": [
        "import plotly.graph_objects as go\n",
        "from plotly.subplots import make_subplots\n",
        "import pandas as pd\n",
        "\n",
        "# Filtrar solo los datos reales\n",
        "data_actuals = datos[datos['SCENARIO'] == 'actual']\n",
        "\n",
        "# Convertir la columna AMOUNT a formato numérico\n",
        "data_actuals['AMOUNT'] = data_actuals['AMOUNT'].apply(lambda x: float(str(x).replace(\",\", \".\")))"
      ],
      "metadata": {
        "colab": {
          "base_uri": "https://localhost:8080/"
        },
        "id": "stmJLzMvrje5",
        "outputId": "3e9f4361-d307-44e6-c780-9fd0fe89f73c"
      },
      "execution_count": 8,
      "outputs": [
        {
          "output_type": "stream",
          "name": "stderr",
          "text": [
            "<ipython-input-8-c1e14d52c1d6>:9: SettingWithCopyWarning: \n",
            "A value is trying to be set on a copy of a slice from a DataFrame.\n",
            "Try using .loc[row_indexer,col_indexer] = value instead\n",
            "\n",
            "See the caveats in the documentation: https://pandas.pydata.org/pandas-docs/stable/user_guide/indexing.html#returning-a-view-versus-a-copy\n",
            "  data_actuals['AMOUNT'] = data_actuals['AMOUNT'].apply(lambda x: float(str(x).replace(\",\", \".\")))\n"
          ]
        }
      ]
    },
    {
      "cell_type": "markdown",
      "source": [
        "Según país"
      ],
      "metadata": {
        "id": "a43wtIsorlR6"
      }
    },
    {
      "cell_type": "code",
      "source": [
        "# Agrupar y sumar las ventas por país\n",
        "sales_by_country = data_actuals.groupby('COUNTRY')['AMOUNT'].sum().reset_index()\n",
        "\n",
        "# Crear el gráfico de barras\n",
        "fig = px.bar(\n",
        "    sales_by_country,\n",
        "    x='COUNTRY',\n",
        "    y='AMOUNT',\n",
        "    title='Distribución de Ventas por País',\n",
        "    labels={'COUNTRY': 'País', 'AMOUNT': 'Ventas'},\n",
        "    color='AMOUNT',\n",
        "    color_continuous_scale='magma'\n",
        ")\n",
        "\n",
        "# Personalizar el título y el diseño\n",
        "fig.update_layout(\n",
        "    title_font_size=20,\n",
        "    title_font_family=\"bold\",\n",
        "    xaxis_title_font_size=14,\n",
        "    xaxis_title_font_family=\"bold\",\n",
        "    yaxis_title_font_size=14,\n",
        "    yaxis_title_font_family=\"bold\",\n",
        "    template='plotly_white'\n",
        ")\n",
        "\n",
        "fig.show()"
      ],
      "metadata": {
        "colab": {
          "base_uri": "https://localhost:8080/",
          "height": 542
        },
        "id": "S_GEZ0gYrndn",
        "outputId": "a463238a-7441-4321-e945-9a1fe6f7e6a4"
      },
      "execution_count": 9,
      "outputs": [
        {
          "output_type": "display_data",
          "data": {
            "text/html": [
              "<html>\n",
              "<head><meta charset=\"utf-8\" /></head>\n",
              "<body>\n",
              "    <div>            <script src=\"https://cdnjs.cloudflare.com/ajax/libs/mathjax/2.7.5/MathJax.js?config=TeX-AMS-MML_SVG\"></script><script type=\"text/javascript\">if (window.MathJax && window.MathJax.Hub && window.MathJax.Hub.Config) {window.MathJax.Hub.Config({SVG: {font: \"STIX-Web\"}});}</script>                <script type=\"text/javascript\">window.PlotlyConfig = {MathJaxConfig: 'local'};</script>\n",
              "        <script charset=\"utf-8\" src=\"https://cdn.plot.ly/plotly-2.35.2.min.js\"></script>                <div id=\"5a83d3ae-769b-40d0-9d3f-87492aa391d8\" class=\"plotly-graph-div\" style=\"height:525px; width:100%;\"></div>            <script type=\"text/javascript\">                                    window.PLOTLYENV=window.PLOTLYENV || {};                                    if (document.getElementById(\"5a83d3ae-769b-40d0-9d3f-87492aa391d8\")) {                    Plotly.newPlot(                        \"5a83d3ae-769b-40d0-9d3f-87492aa391d8\",                        [{\"alignmentgroup\":\"True\",\"hovertemplate\":\"País=%{x}\\u003cbr\\u003eVentas=%{marker.color}\\u003cextra\\u003e\\u003c\\u002fextra\\u003e\",\"legendgroup\":\"\",\"marker\":{\"color\":[35351639.56481399,56596675.75261528,334778603.75283086,41539909.268090494,43454036.96646074,63959428.7739604,51214060.87602148,34888069.81380808,8131265.977520084],\"coloraxis\":\"coloraxis\",\"pattern\":{\"shape\":\"\"}},\"name\":\"\",\"offsetgroup\":\"\",\"orientation\":\"v\",\"showlegend\":false,\"textposition\":\"auto\",\"x\":[\"Czech\",\"Denmark\",\"Great Britain\",\"Hungary\",\"Italy\",\"Netherlands\",\"Norway\",\"Portugal\",\"Spain\"],\"xaxis\":\"x\",\"y\":[35351639.56481399,56596675.75261528,334778603.75283086,41539909.268090494,43454036.96646074,63959428.7739604,51214060.87602148,34888069.81380808,8131265.977520084],\"yaxis\":\"y\",\"type\":\"bar\"}],                        {\"template\":{\"data\":{\"barpolar\":[{\"marker\":{\"line\":{\"color\":\"white\",\"width\":0.5},\"pattern\":{\"fillmode\":\"overlay\",\"size\":10,\"solidity\":0.2}},\"type\":\"barpolar\"}],\"bar\":[{\"error_x\":{\"color\":\"#2a3f5f\"},\"error_y\":{\"color\":\"#2a3f5f\"},\"marker\":{\"line\":{\"color\":\"white\",\"width\":0.5},\"pattern\":{\"fillmode\":\"overlay\",\"size\":10,\"solidity\":0.2}},\"type\":\"bar\"}],\"carpet\":[{\"aaxis\":{\"endlinecolor\":\"#2a3f5f\",\"gridcolor\":\"#C8D4E3\",\"linecolor\":\"#C8D4E3\",\"minorgridcolor\":\"#C8D4E3\",\"startlinecolor\":\"#2a3f5f\"},\"baxis\":{\"endlinecolor\":\"#2a3f5f\",\"gridcolor\":\"#C8D4E3\",\"linecolor\":\"#C8D4E3\",\"minorgridcolor\":\"#C8D4E3\",\"startlinecolor\":\"#2a3f5f\"},\"type\":\"carpet\"}],\"choropleth\":[{\"colorbar\":{\"outlinewidth\":0,\"ticks\":\"\"},\"type\":\"choropleth\"}],\"contourcarpet\":[{\"colorbar\":{\"outlinewidth\":0,\"ticks\":\"\"},\"type\":\"contourcarpet\"}],\"contour\":[{\"colorbar\":{\"outlinewidth\":0,\"ticks\":\"\"},\"colorscale\":[[0.0,\"#0d0887\"],[0.1111111111111111,\"#46039f\"],[0.2222222222222222,\"#7201a8\"],[0.3333333333333333,\"#9c179e\"],[0.4444444444444444,\"#bd3786\"],[0.5555555555555556,\"#d8576b\"],[0.6666666666666666,\"#ed7953\"],[0.7777777777777778,\"#fb9f3a\"],[0.8888888888888888,\"#fdca26\"],[1.0,\"#f0f921\"]],\"type\":\"contour\"}],\"heatmapgl\":[{\"colorbar\":{\"outlinewidth\":0,\"ticks\":\"\"},\"colorscale\":[[0.0,\"#0d0887\"],[0.1111111111111111,\"#46039f\"],[0.2222222222222222,\"#7201a8\"],[0.3333333333333333,\"#9c179e\"],[0.4444444444444444,\"#bd3786\"],[0.5555555555555556,\"#d8576b\"],[0.6666666666666666,\"#ed7953\"],[0.7777777777777778,\"#fb9f3a\"],[0.8888888888888888,\"#fdca26\"],[1.0,\"#f0f921\"]],\"type\":\"heatmapgl\"}],\"heatmap\":[{\"colorbar\":{\"outlinewidth\":0,\"ticks\":\"\"},\"colorscale\":[[0.0,\"#0d0887\"],[0.1111111111111111,\"#46039f\"],[0.2222222222222222,\"#7201a8\"],[0.3333333333333333,\"#9c179e\"],[0.4444444444444444,\"#bd3786\"],[0.5555555555555556,\"#d8576b\"],[0.6666666666666666,\"#ed7953\"],[0.7777777777777778,\"#fb9f3a\"],[0.8888888888888888,\"#fdca26\"],[1.0,\"#f0f921\"]],\"type\":\"heatmap\"}],\"histogram2dcontour\":[{\"colorbar\":{\"outlinewidth\":0,\"ticks\":\"\"},\"colorscale\":[[0.0,\"#0d0887\"],[0.1111111111111111,\"#46039f\"],[0.2222222222222222,\"#7201a8\"],[0.3333333333333333,\"#9c179e\"],[0.4444444444444444,\"#bd3786\"],[0.5555555555555556,\"#d8576b\"],[0.6666666666666666,\"#ed7953\"],[0.7777777777777778,\"#fb9f3a\"],[0.8888888888888888,\"#fdca26\"],[1.0,\"#f0f921\"]],\"type\":\"histogram2dcontour\"}],\"histogram2d\":[{\"colorbar\":{\"outlinewidth\":0,\"ticks\":\"\"},\"colorscale\":[[0.0,\"#0d0887\"],[0.1111111111111111,\"#46039f\"],[0.2222222222222222,\"#7201a8\"],[0.3333333333333333,\"#9c179e\"],[0.4444444444444444,\"#bd3786\"],[0.5555555555555556,\"#d8576b\"],[0.6666666666666666,\"#ed7953\"],[0.7777777777777778,\"#fb9f3a\"],[0.8888888888888888,\"#fdca26\"],[1.0,\"#f0f921\"]],\"type\":\"histogram2d\"}],\"histogram\":[{\"marker\":{\"pattern\":{\"fillmode\":\"overlay\",\"size\":10,\"solidity\":0.2}},\"type\":\"histogram\"}],\"mesh3d\":[{\"colorbar\":{\"outlinewidth\":0,\"ticks\":\"\"},\"type\":\"mesh3d\"}],\"parcoords\":[{\"line\":{\"colorbar\":{\"outlinewidth\":0,\"ticks\":\"\"}},\"type\":\"parcoords\"}],\"pie\":[{\"automargin\":true,\"type\":\"pie\"}],\"scatter3d\":[{\"line\":{\"colorbar\":{\"outlinewidth\":0,\"ticks\":\"\"}},\"marker\":{\"colorbar\":{\"outlinewidth\":0,\"ticks\":\"\"}},\"type\":\"scatter3d\"}],\"scattercarpet\":[{\"marker\":{\"colorbar\":{\"outlinewidth\":0,\"ticks\":\"\"}},\"type\":\"scattercarpet\"}],\"scattergeo\":[{\"marker\":{\"colorbar\":{\"outlinewidth\":0,\"ticks\":\"\"}},\"type\":\"scattergeo\"}],\"scattergl\":[{\"marker\":{\"colorbar\":{\"outlinewidth\":0,\"ticks\":\"\"}},\"type\":\"scattergl\"}],\"scattermapbox\":[{\"marker\":{\"colorbar\":{\"outlinewidth\":0,\"ticks\":\"\"}},\"type\":\"scattermapbox\"}],\"scatterpolargl\":[{\"marker\":{\"colorbar\":{\"outlinewidth\":0,\"ticks\":\"\"}},\"type\":\"scatterpolargl\"}],\"scatterpolar\":[{\"marker\":{\"colorbar\":{\"outlinewidth\":0,\"ticks\":\"\"}},\"type\":\"scatterpolar\"}],\"scatter\":[{\"fillpattern\":{\"fillmode\":\"overlay\",\"size\":10,\"solidity\":0.2},\"type\":\"scatter\"}],\"scatterternary\":[{\"marker\":{\"colorbar\":{\"outlinewidth\":0,\"ticks\":\"\"}},\"type\":\"scatterternary\"}],\"surface\":[{\"colorbar\":{\"outlinewidth\":0,\"ticks\":\"\"},\"colorscale\":[[0.0,\"#0d0887\"],[0.1111111111111111,\"#46039f\"],[0.2222222222222222,\"#7201a8\"],[0.3333333333333333,\"#9c179e\"],[0.4444444444444444,\"#bd3786\"],[0.5555555555555556,\"#d8576b\"],[0.6666666666666666,\"#ed7953\"],[0.7777777777777778,\"#fb9f3a\"],[0.8888888888888888,\"#fdca26\"],[1.0,\"#f0f921\"]],\"type\":\"surface\"}],\"table\":[{\"cells\":{\"fill\":{\"color\":\"#EBF0F8\"},\"line\":{\"color\":\"white\"}},\"header\":{\"fill\":{\"color\":\"#C8D4E3\"},\"line\":{\"color\":\"white\"}},\"type\":\"table\"}]},\"layout\":{\"annotationdefaults\":{\"arrowcolor\":\"#2a3f5f\",\"arrowhead\":0,\"arrowwidth\":1},\"autotypenumbers\":\"strict\",\"coloraxis\":{\"colorbar\":{\"outlinewidth\":0,\"ticks\":\"\"}},\"colorscale\":{\"diverging\":[[0,\"#8e0152\"],[0.1,\"#c51b7d\"],[0.2,\"#de77ae\"],[0.3,\"#f1b6da\"],[0.4,\"#fde0ef\"],[0.5,\"#f7f7f7\"],[0.6,\"#e6f5d0\"],[0.7,\"#b8e186\"],[0.8,\"#7fbc41\"],[0.9,\"#4d9221\"],[1,\"#276419\"]],\"sequential\":[[0.0,\"#0d0887\"],[0.1111111111111111,\"#46039f\"],[0.2222222222222222,\"#7201a8\"],[0.3333333333333333,\"#9c179e\"],[0.4444444444444444,\"#bd3786\"],[0.5555555555555556,\"#d8576b\"],[0.6666666666666666,\"#ed7953\"],[0.7777777777777778,\"#fb9f3a\"],[0.8888888888888888,\"#fdca26\"],[1.0,\"#f0f921\"]],\"sequentialminus\":[[0.0,\"#0d0887\"],[0.1111111111111111,\"#46039f\"],[0.2222222222222222,\"#7201a8\"],[0.3333333333333333,\"#9c179e\"],[0.4444444444444444,\"#bd3786\"],[0.5555555555555556,\"#d8576b\"],[0.6666666666666666,\"#ed7953\"],[0.7777777777777778,\"#fb9f3a\"],[0.8888888888888888,\"#fdca26\"],[1.0,\"#f0f921\"]]},\"colorway\":[\"#636efa\",\"#EF553B\",\"#00cc96\",\"#ab63fa\",\"#FFA15A\",\"#19d3f3\",\"#FF6692\",\"#B6E880\",\"#FF97FF\",\"#FECB52\"],\"font\":{\"color\":\"#2a3f5f\"},\"geo\":{\"bgcolor\":\"white\",\"lakecolor\":\"white\",\"landcolor\":\"white\",\"showlakes\":true,\"showland\":true,\"subunitcolor\":\"#C8D4E3\"},\"hoverlabel\":{\"align\":\"left\"},\"hovermode\":\"closest\",\"mapbox\":{\"style\":\"light\"},\"paper_bgcolor\":\"white\",\"plot_bgcolor\":\"white\",\"polar\":{\"angularaxis\":{\"gridcolor\":\"#EBF0F8\",\"linecolor\":\"#EBF0F8\",\"ticks\":\"\"},\"bgcolor\":\"white\",\"radialaxis\":{\"gridcolor\":\"#EBF0F8\",\"linecolor\":\"#EBF0F8\",\"ticks\":\"\"}},\"scene\":{\"xaxis\":{\"backgroundcolor\":\"white\",\"gridcolor\":\"#DFE8F3\",\"gridwidth\":2,\"linecolor\":\"#EBF0F8\",\"showbackground\":true,\"ticks\":\"\",\"zerolinecolor\":\"#EBF0F8\"},\"yaxis\":{\"backgroundcolor\":\"white\",\"gridcolor\":\"#DFE8F3\",\"gridwidth\":2,\"linecolor\":\"#EBF0F8\",\"showbackground\":true,\"ticks\":\"\",\"zerolinecolor\":\"#EBF0F8\"},\"zaxis\":{\"backgroundcolor\":\"white\",\"gridcolor\":\"#DFE8F3\",\"gridwidth\":2,\"linecolor\":\"#EBF0F8\",\"showbackground\":true,\"ticks\":\"\",\"zerolinecolor\":\"#EBF0F8\"}},\"shapedefaults\":{\"line\":{\"color\":\"#2a3f5f\"}},\"ternary\":{\"aaxis\":{\"gridcolor\":\"#DFE8F3\",\"linecolor\":\"#A2B1C6\",\"ticks\":\"\"},\"baxis\":{\"gridcolor\":\"#DFE8F3\",\"linecolor\":\"#A2B1C6\",\"ticks\":\"\"},\"bgcolor\":\"white\",\"caxis\":{\"gridcolor\":\"#DFE8F3\",\"linecolor\":\"#A2B1C6\",\"ticks\":\"\"}},\"title\":{\"x\":0.05},\"xaxis\":{\"automargin\":true,\"gridcolor\":\"#EBF0F8\",\"linecolor\":\"#EBF0F8\",\"ticks\":\"\",\"title\":{\"standoff\":15},\"zerolinecolor\":\"#EBF0F8\",\"zerolinewidth\":2},\"yaxis\":{\"automargin\":true,\"gridcolor\":\"#EBF0F8\",\"linecolor\":\"#EBF0F8\",\"ticks\":\"\",\"title\":{\"standoff\":15},\"zerolinecolor\":\"#EBF0F8\",\"zerolinewidth\":2}}},\"xaxis\":{\"anchor\":\"y\",\"domain\":[0.0,1.0],\"title\":{\"text\":\"País\",\"font\":{\"size\":14,\"family\":\"bold\"}}},\"yaxis\":{\"anchor\":\"x\",\"domain\":[0.0,1.0],\"title\":{\"text\":\"Ventas\",\"font\":{\"size\":14,\"family\":\"bold\"}}},\"coloraxis\":{\"colorbar\":{\"title\":{\"text\":\"Ventas\"}},\"colorscale\":[[0.0,\"#000004\"],[0.1111111111111111,\"#180f3d\"],[0.2222222222222222,\"#440f76\"],[0.3333333333333333,\"#721f81\"],[0.4444444444444444,\"#9e2f7f\"],[0.5555555555555556,\"#cd4071\"],[0.6666666666666666,\"#f1605d\"],[0.7777777777777778,\"#fd9668\"],[0.8888888888888888,\"#feca8d\"],[1.0,\"#fcfdbf\"]]},\"legend\":{\"tracegroupgap\":0},\"title\":{\"text\":\"Distribución de Ventas por País\",\"font\":{\"size\":20,\"family\":\"bold\"}},\"barmode\":\"relative\"},                        {\"responsive\": true}                    ).then(function(){\n",
              "                            \n",
              "var gd = document.getElementById('5a83d3ae-769b-40d0-9d3f-87492aa391d8');\n",
              "var x = new MutationObserver(function (mutations, observer) {{\n",
              "        var display = window.getComputedStyle(gd).display;\n",
              "        if (!display || display === 'none') {{\n",
              "            console.log([gd, 'removed!']);\n",
              "            Plotly.purge(gd);\n",
              "            observer.disconnect();\n",
              "        }}\n",
              "}});\n",
              "\n",
              "// Listen for the removal of the full notebook cells\n",
              "var notebookContainer = gd.closest('#notebook-container');\n",
              "if (notebookContainer) {{\n",
              "    x.observe(notebookContainer, {childList: true});\n",
              "}}\n",
              "\n",
              "// Listen for the clearing of the current output cell\n",
              "var outputEl = gd.closest('.output');\n",
              "if (outputEl) {{\n",
              "    x.observe(outputEl, {childList: true});\n",
              "}}\n",
              "\n",
              "                        })                };                            </script>        </div>\n",
              "</body>\n",
              "</html>"
            ]
          },
          "metadata": {}
        }
      ]
    },
    {
      "cell_type": "markdown",
      "source": [
        "Según fecha"
      ],
      "metadata": {
        "id": "sW1ShM9UrqKB"
      }
    },
    {
      "cell_type": "code",
      "source": [
        "# Creamos la fecha completa, para trabajar con una sola variable\n",
        "data_actuals['DATE'] = pd.to_datetime(data_actuals[['YEAR', 'MONTH']].assign(DAY=1))\n",
        "\n",
        "# Agrupar y sumar las ventas por fecha (por mes)\n",
        "sales_by_date = data_actuals.groupby('DATE')['AMOUNT'].sum().reset_index()\n",
        "\n",
        "# Crear el gráfico de líneas\n",
        "fig = px.line(\n",
        "    sales_by_date,\n",
        "    x='DATE',\n",
        "    y='AMOUNT',\n",
        "    title='Evolución de Ventas Mensuales',\n",
        "    labels={'DATE': 'Fecha', 'AMOUNT': 'Total de Ventas'},\n",
        "    markers=True\n",
        ")\n",
        "\n",
        "# Personalizar el diseño del gráfico\n",
        "fig.update_traces(line_color='purple', line_width=2)\n",
        "fig.update_layout(\n",
        "    title_font_size=18,\n",
        "    title_font_family=\"bold\",\n",
        "    xaxis_title_font_size=14,\n",
        "    xaxis_title_font_family=\"bold\",\n",
        "    yaxis_title_font_size=14,\n",
        "    yaxis_title_font_family=\"bold\",\n",
        "    template='plotly_white'\n",
        ")\n",
        "\n",
        "fig.show()\n"
      ],
      "metadata": {
        "colab": {
          "base_uri": "https://localhost:8080/",
          "height": 701
        },
        "id": "4oHmMCXXrsBr",
        "outputId": "52696026-cfd8-43a4-d4f9-01b9aebdd4f3"
      },
      "execution_count": 10,
      "outputs": [
        {
          "output_type": "stream",
          "name": "stderr",
          "text": [
            "<ipython-input-10-ef4253d0bf19>:2: SettingWithCopyWarning:\n",
            "\n",
            "\n",
            "A value is trying to be set on a copy of a slice from a DataFrame.\n",
            "Try using .loc[row_indexer,col_indexer] = value instead\n",
            "\n",
            "See the caveats in the documentation: https://pandas.pydata.org/pandas-docs/stable/user_guide/indexing.html#returning-a-view-versus-a-copy\n",
            "\n"
          ]
        },
        {
          "output_type": "display_data",
          "data": {
            "text/html": [
              "<html>\n",
              "<head><meta charset=\"utf-8\" /></head>\n",
              "<body>\n",
              "    <div>            <script src=\"https://cdnjs.cloudflare.com/ajax/libs/mathjax/2.7.5/MathJax.js?config=TeX-AMS-MML_SVG\"></script><script type=\"text/javascript\">if (window.MathJax && window.MathJax.Hub && window.MathJax.Hub.Config) {window.MathJax.Hub.Config({SVG: {font: \"STIX-Web\"}});}</script>                <script type=\"text/javascript\">window.PlotlyConfig = {MathJaxConfig: 'local'};</script>\n",
              "        <script charset=\"utf-8\" src=\"https://cdn.plot.ly/plotly-2.35.2.min.js\"></script>                <div id=\"a1df802b-4fef-4c00-ae94-bd7c78365792\" class=\"plotly-graph-div\" style=\"height:525px; width:100%;\"></div>            <script type=\"text/javascript\">                                    window.PLOTLYENV=window.PLOTLYENV || {};                                    if (document.getElementById(\"a1df802b-4fef-4c00-ae94-bd7c78365792\")) {                    Plotly.newPlot(                        \"a1df802b-4fef-4c00-ae94-bd7c78365792\",                        [{\"hovertemplate\":\"Fecha=%{x}\\u003cbr\\u003eTotal de Ventas=%{y}\\u003cextra\\u003e\\u003c\\u002fextra\\u003e\",\"legendgroup\":\"\",\"line\":{\"color\":\"purple\",\"dash\":\"solid\",\"width\":2},\"marker\":{\"symbol\":\"circle\"},\"mode\":\"lines+markers\",\"name\":\"\",\"orientation\":\"v\",\"showlegend\":false,\"x\":[\"2023-01-01T00:00:00\",\"2023-02-01T00:00:00\",\"2023-03-01T00:00:00\",\"2023-04-01T00:00:00\",\"2023-05-01T00:00:00\",\"2023-06-01T00:00:00\",\"2023-07-01T00:00:00\",\"2023-08-01T00:00:00\",\"2023-09-01T00:00:00\",\"2023-10-01T00:00:00\",\"2023-11-01T00:00:00\",\"2023-12-01T00:00:00\",\"2024-01-01T00:00:00\",\"2024-02-01T00:00:00\",\"2024-03-01T00:00:00\",\"2024-04-01T00:00:00\",\"2024-05-01T00:00:00\",\"2024-06-01T00:00:00\",\"2024-07-01T00:00:00\",\"2024-08-01T00:00:00\"],\"xaxis\":\"x\",\"y\":[28088799.84220129,26104373.57611322,35931633.63600297,30857250.596449837,36902446.494225316,37599991.384633146,34032267.54182322,38174767.91163717,31931161.52155883,31449183.076791007,32904191.857141644,34831737.315964974,26890912.132294968,29890029.81031553,34497488.23856295,33699202.16082029,36772636.05069285,35087629.84020062,35713386.675502114,38554601.083189495],\"yaxis\":\"y\",\"type\":\"scatter\"}],                        {\"template\":{\"data\":{\"barpolar\":[{\"marker\":{\"line\":{\"color\":\"white\",\"width\":0.5},\"pattern\":{\"fillmode\":\"overlay\",\"size\":10,\"solidity\":0.2}},\"type\":\"barpolar\"}],\"bar\":[{\"error_x\":{\"color\":\"#2a3f5f\"},\"error_y\":{\"color\":\"#2a3f5f\"},\"marker\":{\"line\":{\"color\":\"white\",\"width\":0.5},\"pattern\":{\"fillmode\":\"overlay\",\"size\":10,\"solidity\":0.2}},\"type\":\"bar\"}],\"carpet\":[{\"aaxis\":{\"endlinecolor\":\"#2a3f5f\",\"gridcolor\":\"#C8D4E3\",\"linecolor\":\"#C8D4E3\",\"minorgridcolor\":\"#C8D4E3\",\"startlinecolor\":\"#2a3f5f\"},\"baxis\":{\"endlinecolor\":\"#2a3f5f\",\"gridcolor\":\"#C8D4E3\",\"linecolor\":\"#C8D4E3\",\"minorgridcolor\":\"#C8D4E3\",\"startlinecolor\":\"#2a3f5f\"},\"type\":\"carpet\"}],\"choropleth\":[{\"colorbar\":{\"outlinewidth\":0,\"ticks\":\"\"},\"type\":\"choropleth\"}],\"contourcarpet\":[{\"colorbar\":{\"outlinewidth\":0,\"ticks\":\"\"},\"type\":\"contourcarpet\"}],\"contour\":[{\"colorbar\":{\"outlinewidth\":0,\"ticks\":\"\"},\"colorscale\":[[0.0,\"#0d0887\"],[0.1111111111111111,\"#46039f\"],[0.2222222222222222,\"#7201a8\"],[0.3333333333333333,\"#9c179e\"],[0.4444444444444444,\"#bd3786\"],[0.5555555555555556,\"#d8576b\"],[0.6666666666666666,\"#ed7953\"],[0.7777777777777778,\"#fb9f3a\"],[0.8888888888888888,\"#fdca26\"],[1.0,\"#f0f921\"]],\"type\":\"contour\"}],\"heatmapgl\":[{\"colorbar\":{\"outlinewidth\":0,\"ticks\":\"\"},\"colorscale\":[[0.0,\"#0d0887\"],[0.1111111111111111,\"#46039f\"],[0.2222222222222222,\"#7201a8\"],[0.3333333333333333,\"#9c179e\"],[0.4444444444444444,\"#bd3786\"],[0.5555555555555556,\"#d8576b\"],[0.6666666666666666,\"#ed7953\"],[0.7777777777777778,\"#fb9f3a\"],[0.8888888888888888,\"#fdca26\"],[1.0,\"#f0f921\"]],\"type\":\"heatmapgl\"}],\"heatmap\":[{\"colorbar\":{\"outlinewidth\":0,\"ticks\":\"\"},\"colorscale\":[[0.0,\"#0d0887\"],[0.1111111111111111,\"#46039f\"],[0.2222222222222222,\"#7201a8\"],[0.3333333333333333,\"#9c179e\"],[0.4444444444444444,\"#bd3786\"],[0.5555555555555556,\"#d8576b\"],[0.6666666666666666,\"#ed7953\"],[0.7777777777777778,\"#fb9f3a\"],[0.8888888888888888,\"#fdca26\"],[1.0,\"#f0f921\"]],\"type\":\"heatmap\"}],\"histogram2dcontour\":[{\"colorbar\":{\"outlinewidth\":0,\"ticks\":\"\"},\"colorscale\":[[0.0,\"#0d0887\"],[0.1111111111111111,\"#46039f\"],[0.2222222222222222,\"#7201a8\"],[0.3333333333333333,\"#9c179e\"],[0.4444444444444444,\"#bd3786\"],[0.5555555555555556,\"#d8576b\"],[0.6666666666666666,\"#ed7953\"],[0.7777777777777778,\"#fb9f3a\"],[0.8888888888888888,\"#fdca26\"],[1.0,\"#f0f921\"]],\"type\":\"histogram2dcontour\"}],\"histogram2d\":[{\"colorbar\":{\"outlinewidth\":0,\"ticks\":\"\"},\"colorscale\":[[0.0,\"#0d0887\"],[0.1111111111111111,\"#46039f\"],[0.2222222222222222,\"#7201a8\"],[0.3333333333333333,\"#9c179e\"],[0.4444444444444444,\"#bd3786\"],[0.5555555555555556,\"#d8576b\"],[0.6666666666666666,\"#ed7953\"],[0.7777777777777778,\"#fb9f3a\"],[0.8888888888888888,\"#fdca26\"],[1.0,\"#f0f921\"]],\"type\":\"histogram2d\"}],\"histogram\":[{\"marker\":{\"pattern\":{\"fillmode\":\"overlay\",\"size\":10,\"solidity\":0.2}},\"type\":\"histogram\"}],\"mesh3d\":[{\"colorbar\":{\"outlinewidth\":0,\"ticks\":\"\"},\"type\":\"mesh3d\"}],\"parcoords\":[{\"line\":{\"colorbar\":{\"outlinewidth\":0,\"ticks\":\"\"}},\"type\":\"parcoords\"}],\"pie\":[{\"automargin\":true,\"type\":\"pie\"}],\"scatter3d\":[{\"line\":{\"colorbar\":{\"outlinewidth\":0,\"ticks\":\"\"}},\"marker\":{\"colorbar\":{\"outlinewidth\":0,\"ticks\":\"\"}},\"type\":\"scatter3d\"}],\"scattercarpet\":[{\"marker\":{\"colorbar\":{\"outlinewidth\":0,\"ticks\":\"\"}},\"type\":\"scattercarpet\"}],\"scattergeo\":[{\"marker\":{\"colorbar\":{\"outlinewidth\":0,\"ticks\":\"\"}},\"type\":\"scattergeo\"}],\"scattergl\":[{\"marker\":{\"colorbar\":{\"outlinewidth\":0,\"ticks\":\"\"}},\"type\":\"scattergl\"}],\"scattermapbox\":[{\"marker\":{\"colorbar\":{\"outlinewidth\":0,\"ticks\":\"\"}},\"type\":\"scattermapbox\"}],\"scatterpolargl\":[{\"marker\":{\"colorbar\":{\"outlinewidth\":0,\"ticks\":\"\"}},\"type\":\"scatterpolargl\"}],\"scatterpolar\":[{\"marker\":{\"colorbar\":{\"outlinewidth\":0,\"ticks\":\"\"}},\"type\":\"scatterpolar\"}],\"scatter\":[{\"fillpattern\":{\"fillmode\":\"overlay\",\"size\":10,\"solidity\":0.2},\"type\":\"scatter\"}],\"scatterternary\":[{\"marker\":{\"colorbar\":{\"outlinewidth\":0,\"ticks\":\"\"}},\"type\":\"scatterternary\"}],\"surface\":[{\"colorbar\":{\"outlinewidth\":0,\"ticks\":\"\"},\"colorscale\":[[0.0,\"#0d0887\"],[0.1111111111111111,\"#46039f\"],[0.2222222222222222,\"#7201a8\"],[0.3333333333333333,\"#9c179e\"],[0.4444444444444444,\"#bd3786\"],[0.5555555555555556,\"#d8576b\"],[0.6666666666666666,\"#ed7953\"],[0.7777777777777778,\"#fb9f3a\"],[0.8888888888888888,\"#fdca26\"],[1.0,\"#f0f921\"]],\"type\":\"surface\"}],\"table\":[{\"cells\":{\"fill\":{\"color\":\"#EBF0F8\"},\"line\":{\"color\":\"white\"}},\"header\":{\"fill\":{\"color\":\"#C8D4E3\"},\"line\":{\"color\":\"white\"}},\"type\":\"table\"}]},\"layout\":{\"annotationdefaults\":{\"arrowcolor\":\"#2a3f5f\",\"arrowhead\":0,\"arrowwidth\":1},\"autotypenumbers\":\"strict\",\"coloraxis\":{\"colorbar\":{\"outlinewidth\":0,\"ticks\":\"\"}},\"colorscale\":{\"diverging\":[[0,\"#8e0152\"],[0.1,\"#c51b7d\"],[0.2,\"#de77ae\"],[0.3,\"#f1b6da\"],[0.4,\"#fde0ef\"],[0.5,\"#f7f7f7\"],[0.6,\"#e6f5d0\"],[0.7,\"#b8e186\"],[0.8,\"#7fbc41\"],[0.9,\"#4d9221\"],[1,\"#276419\"]],\"sequential\":[[0.0,\"#0d0887\"],[0.1111111111111111,\"#46039f\"],[0.2222222222222222,\"#7201a8\"],[0.3333333333333333,\"#9c179e\"],[0.4444444444444444,\"#bd3786\"],[0.5555555555555556,\"#d8576b\"],[0.6666666666666666,\"#ed7953\"],[0.7777777777777778,\"#fb9f3a\"],[0.8888888888888888,\"#fdca26\"],[1.0,\"#f0f921\"]],\"sequentialminus\":[[0.0,\"#0d0887\"],[0.1111111111111111,\"#46039f\"],[0.2222222222222222,\"#7201a8\"],[0.3333333333333333,\"#9c179e\"],[0.4444444444444444,\"#bd3786\"],[0.5555555555555556,\"#d8576b\"],[0.6666666666666666,\"#ed7953\"],[0.7777777777777778,\"#fb9f3a\"],[0.8888888888888888,\"#fdca26\"],[1.0,\"#f0f921\"]]},\"colorway\":[\"#636efa\",\"#EF553B\",\"#00cc96\",\"#ab63fa\",\"#FFA15A\",\"#19d3f3\",\"#FF6692\",\"#B6E880\",\"#FF97FF\",\"#FECB52\"],\"font\":{\"color\":\"#2a3f5f\"},\"geo\":{\"bgcolor\":\"white\",\"lakecolor\":\"white\",\"landcolor\":\"white\",\"showlakes\":true,\"showland\":true,\"subunitcolor\":\"#C8D4E3\"},\"hoverlabel\":{\"align\":\"left\"},\"hovermode\":\"closest\",\"mapbox\":{\"style\":\"light\"},\"paper_bgcolor\":\"white\",\"plot_bgcolor\":\"white\",\"polar\":{\"angularaxis\":{\"gridcolor\":\"#EBF0F8\",\"linecolor\":\"#EBF0F8\",\"ticks\":\"\"},\"bgcolor\":\"white\",\"radialaxis\":{\"gridcolor\":\"#EBF0F8\",\"linecolor\":\"#EBF0F8\",\"ticks\":\"\"}},\"scene\":{\"xaxis\":{\"backgroundcolor\":\"white\",\"gridcolor\":\"#DFE8F3\",\"gridwidth\":2,\"linecolor\":\"#EBF0F8\",\"showbackground\":true,\"ticks\":\"\",\"zerolinecolor\":\"#EBF0F8\"},\"yaxis\":{\"backgroundcolor\":\"white\",\"gridcolor\":\"#DFE8F3\",\"gridwidth\":2,\"linecolor\":\"#EBF0F8\",\"showbackground\":true,\"ticks\":\"\",\"zerolinecolor\":\"#EBF0F8\"},\"zaxis\":{\"backgroundcolor\":\"white\",\"gridcolor\":\"#DFE8F3\",\"gridwidth\":2,\"linecolor\":\"#EBF0F8\",\"showbackground\":true,\"ticks\":\"\",\"zerolinecolor\":\"#EBF0F8\"}},\"shapedefaults\":{\"line\":{\"color\":\"#2a3f5f\"}},\"ternary\":{\"aaxis\":{\"gridcolor\":\"#DFE8F3\",\"linecolor\":\"#A2B1C6\",\"ticks\":\"\"},\"baxis\":{\"gridcolor\":\"#DFE8F3\",\"linecolor\":\"#A2B1C6\",\"ticks\":\"\"},\"bgcolor\":\"white\",\"caxis\":{\"gridcolor\":\"#DFE8F3\",\"linecolor\":\"#A2B1C6\",\"ticks\":\"\"}},\"title\":{\"x\":0.05},\"xaxis\":{\"automargin\":true,\"gridcolor\":\"#EBF0F8\",\"linecolor\":\"#EBF0F8\",\"ticks\":\"\",\"title\":{\"standoff\":15},\"zerolinecolor\":\"#EBF0F8\",\"zerolinewidth\":2},\"yaxis\":{\"automargin\":true,\"gridcolor\":\"#EBF0F8\",\"linecolor\":\"#EBF0F8\",\"ticks\":\"\",\"title\":{\"standoff\":15},\"zerolinecolor\":\"#EBF0F8\",\"zerolinewidth\":2}}},\"xaxis\":{\"anchor\":\"y\",\"domain\":[0.0,1.0],\"title\":{\"text\":\"Fecha\",\"font\":{\"size\":14,\"family\":\"bold\"}}},\"yaxis\":{\"anchor\":\"x\",\"domain\":[0.0,1.0],\"title\":{\"text\":\"Total de Ventas\",\"font\":{\"size\":14,\"family\":\"bold\"}}},\"legend\":{\"tracegroupgap\":0},\"title\":{\"text\":\"Evolución de Ventas Mensuales\",\"font\":{\"size\":18,\"family\":\"bold\"}}},                        {\"responsive\": true}                    ).then(function(){\n",
              "                            \n",
              "var gd = document.getElementById('a1df802b-4fef-4c00-ae94-bd7c78365792');\n",
              "var x = new MutationObserver(function (mutations, observer) {{\n",
              "        var display = window.getComputedStyle(gd).display;\n",
              "        if (!display || display === 'none') {{\n",
              "            console.log([gd, 'removed!']);\n",
              "            Plotly.purge(gd);\n",
              "            observer.disconnect();\n",
              "        }}\n",
              "}});\n",
              "\n",
              "// Listen for the removal of the full notebook cells\n",
              "var notebookContainer = gd.closest('#notebook-container');\n",
              "if (notebookContainer) {{\n",
              "    x.observe(notebookContainer, {childList: true});\n",
              "}}\n",
              "\n",
              "// Listen for the clearing of the current output cell\n",
              "var outputEl = gd.closest('.output');\n",
              "if (outputEl) {{\n",
              "    x.observe(outputEl, {childList: true});\n",
              "}}\n",
              "\n",
              "                        })                };                            </script>        </div>\n",
              "</body>\n",
              "</html>"
            ]
          },
          "metadata": {}
        }
      ]
    },
    {
      "cell_type": "markdown",
      "source": [
        "Según cada marca"
      ],
      "metadata": {
        "id": "QiZjGvzvru0-"
      }
    },
    {
      "cell_type": "code",
      "source": [
        "# De misma forma que con los apartados anteriores\n",
        "sales_by_brand = data_actuals.groupby('SUBBRAND')['AMOUNT'].sum().reset_index()\n",
        "#print(sales_by_brand)\n",
        "\n",
        "# Crear el gráfico de barras\n",
        "fig = px.bar(\n",
        "    sales_by_brand,\n",
        "    x='SUBBRAND',\n",
        "    y='AMOUNT',\n",
        "    title='Distribución de Ventas por Marca',\n",
        "    labels={'SUBBRAND': 'Marca', 'AMOUNT': 'Ventas'},\n",
        "    color_discrete_sequence=px.colors.sequential.Magma\n",
        ")\n",
        "\n",
        "# Personalizar el diseño del gráfico\n",
        "fig.update_layout(\n",
        "    title_font_size=20,\n",
        "    title_font_family=\"bold\",\n",
        "    xaxis_title_font_size=14,\n",
        "    xaxis_title_font_family=\"bold\",\n",
        "    yaxis_title_font_size=14,\n",
        "    yaxis_title_font_family=\"bold\",\n",
        "    template='plotly_white'\n",
        ")\n",
        "\n",
        "fig.show()"
      ],
      "metadata": {
        "colab": {
          "base_uri": "https://localhost:8080/",
          "height": 542
        },
        "id": "WCJM8UDSrxBR",
        "outputId": "6d0ee742-9c59-4708-d5c6-a06baba0e14d"
      },
      "execution_count": 11,
      "outputs": [
        {
          "output_type": "display_data",
          "data": {
            "text/html": [
              "<html>\n",
              "<head><meta charset=\"utf-8\" /></head>\n",
              "<body>\n",
              "    <div>            <script src=\"https://cdnjs.cloudflare.com/ajax/libs/mathjax/2.7.5/MathJax.js?config=TeX-AMS-MML_SVG\"></script><script type=\"text/javascript\">if (window.MathJax && window.MathJax.Hub && window.MathJax.Hub.Config) {window.MathJax.Hub.Config({SVG: {font: \"STIX-Web\"}});}</script>                <script type=\"text/javascript\">window.PlotlyConfig = {MathJaxConfig: 'local'};</script>\n",
              "        <script charset=\"utf-8\" src=\"https://cdn.plot.ly/plotly-2.35.2.min.js\"></script>                <div id=\"b5f6f055-4ee9-4c6e-839e-0f15334b5af4\" class=\"plotly-graph-div\" style=\"height:525px; width:100%;\"></div>            <script type=\"text/javascript\">                                    window.PLOTLYENV=window.PLOTLYENV || {};                                    if (document.getElementById(\"b5f6f055-4ee9-4c6e-839e-0f15334b5af4\")) {                    Plotly.newPlot(                        \"b5f6f055-4ee9-4c6e-839e-0f15334b5af4\",                        [{\"alignmentgroup\":\"True\",\"hovertemplate\":\"Marca=%{x}\\u003cbr\\u003eVentas=%{y}\\u003cextra\\u003e\\u003c\\u002fextra\\u003e\",\"legendgroup\":\"\",\"marker\":{\"color\":\"#000004\",\"pattern\":{\"shape\":\"\"}},\"name\":\"\",\"offsetgroup\":\"\",\"orientation\":\"v\",\"showlegend\":false,\"textposition\":\"auto\",\"x\":[\"7up (L3)\",\"7up Free (L3)\",\"Lipton (L3)\",\"Mountain Dew (L3)\",\"Pepsi Max (L3)\",\"Pepsi Regular (L3)\"],\"xaxis\":\"x\",\"y\":[18768514.567695606,34276298.950363286,72865152.8498544,7474390.956547935,396698670.6338175,139830662.7878427],\"yaxis\":\"y\",\"type\":\"bar\"}],                        {\"template\":{\"data\":{\"barpolar\":[{\"marker\":{\"line\":{\"color\":\"white\",\"width\":0.5},\"pattern\":{\"fillmode\":\"overlay\",\"size\":10,\"solidity\":0.2}},\"type\":\"barpolar\"}],\"bar\":[{\"error_x\":{\"color\":\"#2a3f5f\"},\"error_y\":{\"color\":\"#2a3f5f\"},\"marker\":{\"line\":{\"color\":\"white\",\"width\":0.5},\"pattern\":{\"fillmode\":\"overlay\",\"size\":10,\"solidity\":0.2}},\"type\":\"bar\"}],\"carpet\":[{\"aaxis\":{\"endlinecolor\":\"#2a3f5f\",\"gridcolor\":\"#C8D4E3\",\"linecolor\":\"#C8D4E3\",\"minorgridcolor\":\"#C8D4E3\",\"startlinecolor\":\"#2a3f5f\"},\"baxis\":{\"endlinecolor\":\"#2a3f5f\",\"gridcolor\":\"#C8D4E3\",\"linecolor\":\"#C8D4E3\",\"minorgridcolor\":\"#C8D4E3\",\"startlinecolor\":\"#2a3f5f\"},\"type\":\"carpet\"}],\"choropleth\":[{\"colorbar\":{\"outlinewidth\":0,\"ticks\":\"\"},\"type\":\"choropleth\"}],\"contourcarpet\":[{\"colorbar\":{\"outlinewidth\":0,\"ticks\":\"\"},\"type\":\"contourcarpet\"}],\"contour\":[{\"colorbar\":{\"outlinewidth\":0,\"ticks\":\"\"},\"colorscale\":[[0.0,\"#0d0887\"],[0.1111111111111111,\"#46039f\"],[0.2222222222222222,\"#7201a8\"],[0.3333333333333333,\"#9c179e\"],[0.4444444444444444,\"#bd3786\"],[0.5555555555555556,\"#d8576b\"],[0.6666666666666666,\"#ed7953\"],[0.7777777777777778,\"#fb9f3a\"],[0.8888888888888888,\"#fdca26\"],[1.0,\"#f0f921\"]],\"type\":\"contour\"}],\"heatmapgl\":[{\"colorbar\":{\"outlinewidth\":0,\"ticks\":\"\"},\"colorscale\":[[0.0,\"#0d0887\"],[0.1111111111111111,\"#46039f\"],[0.2222222222222222,\"#7201a8\"],[0.3333333333333333,\"#9c179e\"],[0.4444444444444444,\"#bd3786\"],[0.5555555555555556,\"#d8576b\"],[0.6666666666666666,\"#ed7953\"],[0.7777777777777778,\"#fb9f3a\"],[0.8888888888888888,\"#fdca26\"],[1.0,\"#f0f921\"]],\"type\":\"heatmapgl\"}],\"heatmap\":[{\"colorbar\":{\"outlinewidth\":0,\"ticks\":\"\"},\"colorscale\":[[0.0,\"#0d0887\"],[0.1111111111111111,\"#46039f\"],[0.2222222222222222,\"#7201a8\"],[0.3333333333333333,\"#9c179e\"],[0.4444444444444444,\"#bd3786\"],[0.5555555555555556,\"#d8576b\"],[0.6666666666666666,\"#ed7953\"],[0.7777777777777778,\"#fb9f3a\"],[0.8888888888888888,\"#fdca26\"],[1.0,\"#f0f921\"]],\"type\":\"heatmap\"}],\"histogram2dcontour\":[{\"colorbar\":{\"outlinewidth\":0,\"ticks\":\"\"},\"colorscale\":[[0.0,\"#0d0887\"],[0.1111111111111111,\"#46039f\"],[0.2222222222222222,\"#7201a8\"],[0.3333333333333333,\"#9c179e\"],[0.4444444444444444,\"#bd3786\"],[0.5555555555555556,\"#d8576b\"],[0.6666666666666666,\"#ed7953\"],[0.7777777777777778,\"#fb9f3a\"],[0.8888888888888888,\"#fdca26\"],[1.0,\"#f0f921\"]],\"type\":\"histogram2dcontour\"}],\"histogram2d\":[{\"colorbar\":{\"outlinewidth\":0,\"ticks\":\"\"},\"colorscale\":[[0.0,\"#0d0887\"],[0.1111111111111111,\"#46039f\"],[0.2222222222222222,\"#7201a8\"],[0.3333333333333333,\"#9c179e\"],[0.4444444444444444,\"#bd3786\"],[0.5555555555555556,\"#d8576b\"],[0.6666666666666666,\"#ed7953\"],[0.7777777777777778,\"#fb9f3a\"],[0.8888888888888888,\"#fdca26\"],[1.0,\"#f0f921\"]],\"type\":\"histogram2d\"}],\"histogram\":[{\"marker\":{\"pattern\":{\"fillmode\":\"overlay\",\"size\":10,\"solidity\":0.2}},\"type\":\"histogram\"}],\"mesh3d\":[{\"colorbar\":{\"outlinewidth\":0,\"ticks\":\"\"},\"type\":\"mesh3d\"}],\"parcoords\":[{\"line\":{\"colorbar\":{\"outlinewidth\":0,\"ticks\":\"\"}},\"type\":\"parcoords\"}],\"pie\":[{\"automargin\":true,\"type\":\"pie\"}],\"scatter3d\":[{\"line\":{\"colorbar\":{\"outlinewidth\":0,\"ticks\":\"\"}},\"marker\":{\"colorbar\":{\"outlinewidth\":0,\"ticks\":\"\"}},\"type\":\"scatter3d\"}],\"scattercarpet\":[{\"marker\":{\"colorbar\":{\"outlinewidth\":0,\"ticks\":\"\"}},\"type\":\"scattercarpet\"}],\"scattergeo\":[{\"marker\":{\"colorbar\":{\"outlinewidth\":0,\"ticks\":\"\"}},\"type\":\"scattergeo\"}],\"scattergl\":[{\"marker\":{\"colorbar\":{\"outlinewidth\":0,\"ticks\":\"\"}},\"type\":\"scattergl\"}],\"scattermapbox\":[{\"marker\":{\"colorbar\":{\"outlinewidth\":0,\"ticks\":\"\"}},\"type\":\"scattermapbox\"}],\"scatterpolargl\":[{\"marker\":{\"colorbar\":{\"outlinewidth\":0,\"ticks\":\"\"}},\"type\":\"scatterpolargl\"}],\"scatterpolar\":[{\"marker\":{\"colorbar\":{\"outlinewidth\":0,\"ticks\":\"\"}},\"type\":\"scatterpolar\"}],\"scatter\":[{\"fillpattern\":{\"fillmode\":\"overlay\",\"size\":10,\"solidity\":0.2},\"type\":\"scatter\"}],\"scatterternary\":[{\"marker\":{\"colorbar\":{\"outlinewidth\":0,\"ticks\":\"\"}},\"type\":\"scatterternary\"}],\"surface\":[{\"colorbar\":{\"outlinewidth\":0,\"ticks\":\"\"},\"colorscale\":[[0.0,\"#0d0887\"],[0.1111111111111111,\"#46039f\"],[0.2222222222222222,\"#7201a8\"],[0.3333333333333333,\"#9c179e\"],[0.4444444444444444,\"#bd3786\"],[0.5555555555555556,\"#d8576b\"],[0.6666666666666666,\"#ed7953\"],[0.7777777777777778,\"#fb9f3a\"],[0.8888888888888888,\"#fdca26\"],[1.0,\"#f0f921\"]],\"type\":\"surface\"}],\"table\":[{\"cells\":{\"fill\":{\"color\":\"#EBF0F8\"},\"line\":{\"color\":\"white\"}},\"header\":{\"fill\":{\"color\":\"#C8D4E3\"},\"line\":{\"color\":\"white\"}},\"type\":\"table\"}]},\"layout\":{\"annotationdefaults\":{\"arrowcolor\":\"#2a3f5f\",\"arrowhead\":0,\"arrowwidth\":1},\"autotypenumbers\":\"strict\",\"coloraxis\":{\"colorbar\":{\"outlinewidth\":0,\"ticks\":\"\"}},\"colorscale\":{\"diverging\":[[0,\"#8e0152\"],[0.1,\"#c51b7d\"],[0.2,\"#de77ae\"],[0.3,\"#f1b6da\"],[0.4,\"#fde0ef\"],[0.5,\"#f7f7f7\"],[0.6,\"#e6f5d0\"],[0.7,\"#b8e186\"],[0.8,\"#7fbc41\"],[0.9,\"#4d9221\"],[1,\"#276419\"]],\"sequential\":[[0.0,\"#0d0887\"],[0.1111111111111111,\"#46039f\"],[0.2222222222222222,\"#7201a8\"],[0.3333333333333333,\"#9c179e\"],[0.4444444444444444,\"#bd3786\"],[0.5555555555555556,\"#d8576b\"],[0.6666666666666666,\"#ed7953\"],[0.7777777777777778,\"#fb9f3a\"],[0.8888888888888888,\"#fdca26\"],[1.0,\"#f0f921\"]],\"sequentialminus\":[[0.0,\"#0d0887\"],[0.1111111111111111,\"#46039f\"],[0.2222222222222222,\"#7201a8\"],[0.3333333333333333,\"#9c179e\"],[0.4444444444444444,\"#bd3786\"],[0.5555555555555556,\"#d8576b\"],[0.6666666666666666,\"#ed7953\"],[0.7777777777777778,\"#fb9f3a\"],[0.8888888888888888,\"#fdca26\"],[1.0,\"#f0f921\"]]},\"colorway\":[\"#636efa\",\"#EF553B\",\"#00cc96\",\"#ab63fa\",\"#FFA15A\",\"#19d3f3\",\"#FF6692\",\"#B6E880\",\"#FF97FF\",\"#FECB52\"],\"font\":{\"color\":\"#2a3f5f\"},\"geo\":{\"bgcolor\":\"white\",\"lakecolor\":\"white\",\"landcolor\":\"white\",\"showlakes\":true,\"showland\":true,\"subunitcolor\":\"#C8D4E3\"},\"hoverlabel\":{\"align\":\"left\"},\"hovermode\":\"closest\",\"mapbox\":{\"style\":\"light\"},\"paper_bgcolor\":\"white\",\"plot_bgcolor\":\"white\",\"polar\":{\"angularaxis\":{\"gridcolor\":\"#EBF0F8\",\"linecolor\":\"#EBF0F8\",\"ticks\":\"\"},\"bgcolor\":\"white\",\"radialaxis\":{\"gridcolor\":\"#EBF0F8\",\"linecolor\":\"#EBF0F8\",\"ticks\":\"\"}},\"scene\":{\"xaxis\":{\"backgroundcolor\":\"white\",\"gridcolor\":\"#DFE8F3\",\"gridwidth\":2,\"linecolor\":\"#EBF0F8\",\"showbackground\":true,\"ticks\":\"\",\"zerolinecolor\":\"#EBF0F8\"},\"yaxis\":{\"backgroundcolor\":\"white\",\"gridcolor\":\"#DFE8F3\",\"gridwidth\":2,\"linecolor\":\"#EBF0F8\",\"showbackground\":true,\"ticks\":\"\",\"zerolinecolor\":\"#EBF0F8\"},\"zaxis\":{\"backgroundcolor\":\"white\",\"gridcolor\":\"#DFE8F3\",\"gridwidth\":2,\"linecolor\":\"#EBF0F8\",\"showbackground\":true,\"ticks\":\"\",\"zerolinecolor\":\"#EBF0F8\"}},\"shapedefaults\":{\"line\":{\"color\":\"#2a3f5f\"}},\"ternary\":{\"aaxis\":{\"gridcolor\":\"#DFE8F3\",\"linecolor\":\"#A2B1C6\",\"ticks\":\"\"},\"baxis\":{\"gridcolor\":\"#DFE8F3\",\"linecolor\":\"#A2B1C6\",\"ticks\":\"\"},\"bgcolor\":\"white\",\"caxis\":{\"gridcolor\":\"#DFE8F3\",\"linecolor\":\"#A2B1C6\",\"ticks\":\"\"}},\"title\":{\"x\":0.05},\"xaxis\":{\"automargin\":true,\"gridcolor\":\"#EBF0F8\",\"linecolor\":\"#EBF0F8\",\"ticks\":\"\",\"title\":{\"standoff\":15},\"zerolinecolor\":\"#EBF0F8\",\"zerolinewidth\":2},\"yaxis\":{\"automargin\":true,\"gridcolor\":\"#EBF0F8\",\"linecolor\":\"#EBF0F8\",\"ticks\":\"\",\"title\":{\"standoff\":15},\"zerolinecolor\":\"#EBF0F8\",\"zerolinewidth\":2}}},\"xaxis\":{\"anchor\":\"y\",\"domain\":[0.0,1.0],\"title\":{\"text\":\"Marca\",\"font\":{\"size\":14,\"family\":\"bold\"}}},\"yaxis\":{\"anchor\":\"x\",\"domain\":[0.0,1.0],\"title\":{\"text\":\"Ventas\",\"font\":{\"size\":14,\"family\":\"bold\"}}},\"legend\":{\"tracegroupgap\":0},\"title\":{\"text\":\"Distribución de Ventas por Marca\",\"font\":{\"size\":20,\"family\":\"bold\"}},\"barmode\":\"relative\"},                        {\"responsive\": true}                    ).then(function(){\n",
              "                            \n",
              "var gd = document.getElementById('b5f6f055-4ee9-4c6e-839e-0f15334b5af4');\n",
              "var x = new MutationObserver(function (mutations, observer) {{\n",
              "        var display = window.getComputedStyle(gd).display;\n",
              "        if (!display || display === 'none') {{\n",
              "            console.log([gd, 'removed!']);\n",
              "            Plotly.purge(gd);\n",
              "            observer.disconnect();\n",
              "        }}\n",
              "}});\n",
              "\n",
              "// Listen for the removal of the full notebook cells\n",
              "var notebookContainer = gd.closest('#notebook-container');\n",
              "if (notebookContainer) {{\n",
              "    x.observe(notebookContainer, {childList: true});\n",
              "}}\n",
              "\n",
              "// Listen for the clearing of the current output cell\n",
              "var outputEl = gd.closest('.output');\n",
              "if (outputEl) {{\n",
              "    x.observe(outputEl, {childList: true});\n",
              "}}\n",
              "\n",
              "                        })                };                            </script>        </div>\n",
              "</body>\n",
              "</html>"
            ]
          },
          "metadata": {}
        }
      ]
    },
    {
      "cell_type": "markdown",
      "source": [
        "# **2. Tendencia y estacionalidad**"
      ],
      "metadata": {
        "id": "Aqx_49NSrzPE"
      }
    },
    {
      "cell_type": "markdown",
      "source": [
        "Todas las ventas del país con menos ventas"
      ],
      "metadata": {
        "id": "KYCtaT6_r7Ok"
      }
    },
    {
      "cell_type": "code",
      "source": [
        "from statsmodels.tsa.seasonal import seasonal_decompose\n",
        "\n",
        "# Encontrar el país con menos ventas usando el índice del valor mínimo (idxmin)\n",
        "country_min_sales = sales_by_country.loc[sales_by_country['AMOUNT'].idxmin(), 'COUNTRY']\n",
        "\n",
        "# Filtrar los datos para el país con menos ventas\n",
        "data_min_sales_country = data_actuals[data_actuals['COUNTRY'] == country_min_sales]\n",
        "\n",
        "# Creamos la fecha completa, para trabajar con una sola variable\n",
        "data_min_sales_country['DATE'] = pd.to_datetime(data_min_sales_country[['YEAR', 'MONTH']].assign(DAY=1))\n",
        "\n",
        "# Filtrar los datos para el análisis de tendencia y estacionalidad\n",
        "ventas_pais = data_min_sales_country.groupby(['DATE'])['AMOUNT'].sum()\n",
        "\n",
        "# Serie temporal\n",
        "resultados_decomposicion = seasonal_decompose(ventas_pais, model='additive', period=6)\n",
        "\n",
        "# Crear una figura con 3 filas y una columna\n",
        "fig = make_subplots(rows=3, cols=1,\n",
        "                    subplot_titles=(\n",
        "                        'Ventas Originales (España)',\n",
        "                        'Tendencia de las Ventas',\n",
        "                        'Estacionalidad de las Ventas'\n",
        "                    ),\n",
        "                    vertical_spacing=0.15)\n",
        "\n",
        "# Gráfico de la serie original\n",
        "fig.add_trace(\n",
        "    go.Scatter(x=ventas_pais.index, y=ventas_pais, mode='lines', name='Ventas Originales', line=dict(color='blue')),\n",
        "    row=1, col=1\n",
        ")\n",
        "\n",
        "# Gráfico de la tendencia\n",
        "fig.add_trace(\n",
        "    go.Scatter(x=resultados_decomposicion.trend.index, y=resultados_decomposicion.trend, mode='lines', name='Tendencia', line=dict(color='orange')),\n",
        "    row=2, col=1\n",
        ")\n",
        "\n",
        "# Gráfico de la estacionalidad\n",
        "fig.add_trace(\n",
        "    go.Scatter(x=resultados_decomposicion.seasonal.index, y=resultados_decomposicion.seasonal, mode='lines', name='Estacionalidad', line=dict(color='green')),\n",
        "    row=3, col=1\n",
        ")\n",
        "\n",
        "# Configuración de los ejes y diseño\n",
        "fig.update_xaxes(title_text=\"Fecha\", row=1, col=1)\n",
        "fig.update_xaxes(title_text=\"Fecha\", row=2, col=1)\n",
        "fig.update_xaxes(title_text=\"Fecha\", row=3, col=1)\n",
        "\n",
        "fig.update_yaxes(title_text=\"Ventas Totales\", row=1, col=1)\n",
        "fig.update_yaxes(title_text=\"Tendencia\", row=2, col=1)\n",
        "fig.update_yaxes(title_text=\"Estacionalidad\", row=3, col=1)\n",
        "\n",
        "fig.update_layout(\n",
        "    height=800,\n",
        "    title_text=\"Descomposición de la Serie Temporal de Ventas (España)\",\n",
        "    showlegend=False,\n",
        "    template=\"plotly_white\"\n",
        ")\n",
        "\n",
        "# Mostrar la figura\n",
        "fig.show()"
      ],
      "metadata": {
        "colab": {
          "base_uri": "https://localhost:8080/",
          "height": 976
        },
        "id": "jlBMyorKr6r0",
        "outputId": "25de8d71-a15d-4b71-9d84-0dc3f5645201"
      },
      "execution_count": 12,
      "outputs": [
        {
          "output_type": "stream",
          "name": "stderr",
          "text": [
            "<ipython-input-12-03cdbaa94309>:10: SettingWithCopyWarning:\n",
            "\n",
            "\n",
            "A value is trying to be set on a copy of a slice from a DataFrame.\n",
            "Try using .loc[row_indexer,col_indexer] = value instead\n",
            "\n",
            "See the caveats in the documentation: https://pandas.pydata.org/pandas-docs/stable/user_guide/indexing.html#returning-a-view-versus-a-copy\n",
            "\n"
          ]
        },
        {
          "output_type": "display_data",
          "data": {
            "text/html": [
              "<html>\n",
              "<head><meta charset=\"utf-8\" /></head>\n",
              "<body>\n",
              "    <div>            <script src=\"https://cdnjs.cloudflare.com/ajax/libs/mathjax/2.7.5/MathJax.js?config=TeX-AMS-MML_SVG\"></script><script type=\"text/javascript\">if (window.MathJax && window.MathJax.Hub && window.MathJax.Hub.Config) {window.MathJax.Hub.Config({SVG: {font: \"STIX-Web\"}});}</script>                <script type=\"text/javascript\">window.PlotlyConfig = {MathJaxConfig: 'local'};</script>\n",
              "        <script charset=\"utf-8\" src=\"https://cdn.plot.ly/plotly-2.35.2.min.js\"></script>                <div id=\"de5996b0-2d4d-4a60-9cb5-cbdd4399fce9\" class=\"plotly-graph-div\" style=\"height:800px; width:100%;\"></div>            <script type=\"text/javascript\">                                    window.PLOTLYENV=window.PLOTLYENV || {};                                    if (document.getElementById(\"de5996b0-2d4d-4a60-9cb5-cbdd4399fce9\")) {                    Plotly.newPlot(                        \"de5996b0-2d4d-4a60-9cb5-cbdd4399fce9\",                        [{\"line\":{\"color\":\"blue\"},\"mode\":\"lines\",\"name\":\"Ventas Originales\",\"x\":[\"2023-01-01T00:00:00\",\"2023-02-01T00:00:00\",\"2023-03-01T00:00:00\",\"2023-04-01T00:00:00\",\"2023-05-01T00:00:00\",\"2023-06-01T00:00:00\",\"2023-07-01T00:00:00\",\"2023-08-01T00:00:00\",\"2023-09-01T00:00:00\",\"2023-10-01T00:00:00\",\"2023-11-01T00:00:00\",\"2023-12-01T00:00:00\",\"2024-01-01T00:00:00\",\"2024-02-01T00:00:00\",\"2024-03-01T00:00:00\",\"2024-04-01T00:00:00\",\"2024-05-01T00:00:00\",\"2024-06-01T00:00:00\",\"2024-07-01T00:00:00\",\"2024-08-01T00:00:00\"],\"y\":[325272.9389304911,295588.379604517,399710.27310997306,328035.2578740851,360751.156280142,439198.58628968743,496545.2361195783,564336.120819692,420041.9805910407,468425.84176011605,418006.199049298,394147.40859018476,349696.53314179694,352899.0356524695,332109.2562326968,376678.36889674753,356759.011785592,408967.746366754,506234.36278204597,537862.283643176],\"type\":\"scatter\",\"xaxis\":\"x\",\"yaxis\":\"y\"},{\"line\":{\"color\":\"orange\"},\"mode\":\"lines\",\"name\":\"Tendencia\",\"x\":[\"2023-01-01T00:00:00\",\"2023-02-01T00:00:00\",\"2023-03-01T00:00:00\",\"2023-04-01T00:00:00\",\"2023-05-01T00:00:00\",\"2023-06-01T00:00:00\",\"2023-07-01T00:00:00\",\"2023-08-01T00:00:00\",\"2023-09-01T00:00:00\",\"2023-10-01T00:00:00\",\"2023-11-01T00:00:00\",\"2023-12-01T00:00:00\",\"2024-01-01T00:00:00\",\"2024-02-01T00:00:00\",\"2024-03-01T00:00:00\",\"2024-04-01T00:00:00\",\"2024-05-01T00:00:00\",\"2024-06-01T00:00:00\",\"2024-07-01T00:00:00\",\"2024-08-01T00:00:00\"],\"y\":[null,null,null,372365.4567805731,409033.7933142617,433123.74737228197,446517.2716528735,462987.74054080574,464004.7292966102,448013.07257350325,418155.9235614195,393208.439434289,378235.08966581296,365485.5346552234,361616.6305312954,375896.47781603015,404354.9009519431,null,null,null],\"type\":\"scatter\",\"xaxis\":\"x2\",\"yaxis\":\"y2\"},{\"line\":{\"color\":\"green\"},\"mode\":\"lines\",\"name\":\"Estacionalidad\",\"x\":[\"2023-01-01T00:00:00\",\"2023-02-01T00:00:00\",\"2023-03-01T00:00:00\",\"2023-04-01T00:00:00\",\"2023-05-01T00:00:00\",\"2023-06-01T00:00:00\",\"2023-07-01T00:00:00\",\"2023-08-01T00:00:00\",\"2023-09-01T00:00:00\",\"2023-10-01T00:00:00\",\"2023-11-01T00:00:00\",\"2023-12-01T00:00:00\",\"2024-01-01T00:00:00\",\"2024-02-01T00:00:00\",\"2024-03-01T00:00:00\",\"2024-04-01T00:00:00\",\"2024-05-01T00:00:00\",\"2024-06-01T00:00:00\",\"2024-07-01T00:00:00\",\"2024-08-01T00:00:00\"],\"y\":[13715.333300223212,47351.569966945,-33764.432173205234,-4741.216884173796,-29038.78757531861,6477.533365529425,13715.333300223212,47351.569966945,-33764.432173205234,-4741.216884173796,-29038.78757531861,6477.533365529425,13715.333300223212,47351.569966945,-33764.432173205234,-4741.216884173796,-29038.78757531861,6477.533365529425,13715.333300223212,47351.569966945],\"type\":\"scatter\",\"xaxis\":\"x3\",\"yaxis\":\"y3\"}],                        {\"template\":{\"data\":{\"barpolar\":[{\"marker\":{\"line\":{\"color\":\"white\",\"width\":0.5},\"pattern\":{\"fillmode\":\"overlay\",\"size\":10,\"solidity\":0.2}},\"type\":\"barpolar\"}],\"bar\":[{\"error_x\":{\"color\":\"#2a3f5f\"},\"error_y\":{\"color\":\"#2a3f5f\"},\"marker\":{\"line\":{\"color\":\"white\",\"width\":0.5},\"pattern\":{\"fillmode\":\"overlay\",\"size\":10,\"solidity\":0.2}},\"type\":\"bar\"}],\"carpet\":[{\"aaxis\":{\"endlinecolor\":\"#2a3f5f\",\"gridcolor\":\"#C8D4E3\",\"linecolor\":\"#C8D4E3\",\"minorgridcolor\":\"#C8D4E3\",\"startlinecolor\":\"#2a3f5f\"},\"baxis\":{\"endlinecolor\":\"#2a3f5f\",\"gridcolor\":\"#C8D4E3\",\"linecolor\":\"#C8D4E3\",\"minorgridcolor\":\"#C8D4E3\",\"startlinecolor\":\"#2a3f5f\"},\"type\":\"carpet\"}],\"choropleth\":[{\"colorbar\":{\"outlinewidth\":0,\"ticks\":\"\"},\"type\":\"choropleth\"}],\"contourcarpet\":[{\"colorbar\":{\"outlinewidth\":0,\"ticks\":\"\"},\"type\":\"contourcarpet\"}],\"contour\":[{\"colorbar\":{\"outlinewidth\":0,\"ticks\":\"\"},\"colorscale\":[[0.0,\"#0d0887\"],[0.1111111111111111,\"#46039f\"],[0.2222222222222222,\"#7201a8\"],[0.3333333333333333,\"#9c179e\"],[0.4444444444444444,\"#bd3786\"],[0.5555555555555556,\"#d8576b\"],[0.6666666666666666,\"#ed7953\"],[0.7777777777777778,\"#fb9f3a\"],[0.8888888888888888,\"#fdca26\"],[1.0,\"#f0f921\"]],\"type\":\"contour\"}],\"heatmapgl\":[{\"colorbar\":{\"outlinewidth\":0,\"ticks\":\"\"},\"colorscale\":[[0.0,\"#0d0887\"],[0.1111111111111111,\"#46039f\"],[0.2222222222222222,\"#7201a8\"],[0.3333333333333333,\"#9c179e\"],[0.4444444444444444,\"#bd3786\"],[0.5555555555555556,\"#d8576b\"],[0.6666666666666666,\"#ed7953\"],[0.7777777777777778,\"#fb9f3a\"],[0.8888888888888888,\"#fdca26\"],[1.0,\"#f0f921\"]],\"type\":\"heatmapgl\"}],\"heatmap\":[{\"colorbar\":{\"outlinewidth\":0,\"ticks\":\"\"},\"colorscale\":[[0.0,\"#0d0887\"],[0.1111111111111111,\"#46039f\"],[0.2222222222222222,\"#7201a8\"],[0.3333333333333333,\"#9c179e\"],[0.4444444444444444,\"#bd3786\"],[0.5555555555555556,\"#d8576b\"],[0.6666666666666666,\"#ed7953\"],[0.7777777777777778,\"#fb9f3a\"],[0.8888888888888888,\"#fdca26\"],[1.0,\"#f0f921\"]],\"type\":\"heatmap\"}],\"histogram2dcontour\":[{\"colorbar\":{\"outlinewidth\":0,\"ticks\":\"\"},\"colorscale\":[[0.0,\"#0d0887\"],[0.1111111111111111,\"#46039f\"],[0.2222222222222222,\"#7201a8\"],[0.3333333333333333,\"#9c179e\"],[0.4444444444444444,\"#bd3786\"],[0.5555555555555556,\"#d8576b\"],[0.6666666666666666,\"#ed7953\"],[0.7777777777777778,\"#fb9f3a\"],[0.8888888888888888,\"#fdca26\"],[1.0,\"#f0f921\"]],\"type\":\"histogram2dcontour\"}],\"histogram2d\":[{\"colorbar\":{\"outlinewidth\":0,\"ticks\":\"\"},\"colorscale\":[[0.0,\"#0d0887\"],[0.1111111111111111,\"#46039f\"],[0.2222222222222222,\"#7201a8\"],[0.3333333333333333,\"#9c179e\"],[0.4444444444444444,\"#bd3786\"],[0.5555555555555556,\"#d8576b\"],[0.6666666666666666,\"#ed7953\"],[0.7777777777777778,\"#fb9f3a\"],[0.8888888888888888,\"#fdca26\"],[1.0,\"#f0f921\"]],\"type\":\"histogram2d\"}],\"histogram\":[{\"marker\":{\"pattern\":{\"fillmode\":\"overlay\",\"size\":10,\"solidity\":0.2}},\"type\":\"histogram\"}],\"mesh3d\":[{\"colorbar\":{\"outlinewidth\":0,\"ticks\":\"\"},\"type\":\"mesh3d\"}],\"parcoords\":[{\"line\":{\"colorbar\":{\"outlinewidth\":0,\"ticks\":\"\"}},\"type\":\"parcoords\"}],\"pie\":[{\"automargin\":true,\"type\":\"pie\"}],\"scatter3d\":[{\"line\":{\"colorbar\":{\"outlinewidth\":0,\"ticks\":\"\"}},\"marker\":{\"colorbar\":{\"outlinewidth\":0,\"ticks\":\"\"}},\"type\":\"scatter3d\"}],\"scattercarpet\":[{\"marker\":{\"colorbar\":{\"outlinewidth\":0,\"ticks\":\"\"}},\"type\":\"scattercarpet\"}],\"scattergeo\":[{\"marker\":{\"colorbar\":{\"outlinewidth\":0,\"ticks\":\"\"}},\"type\":\"scattergeo\"}],\"scattergl\":[{\"marker\":{\"colorbar\":{\"outlinewidth\":0,\"ticks\":\"\"}},\"type\":\"scattergl\"}],\"scattermapbox\":[{\"marker\":{\"colorbar\":{\"outlinewidth\":0,\"ticks\":\"\"}},\"type\":\"scattermapbox\"}],\"scatterpolargl\":[{\"marker\":{\"colorbar\":{\"outlinewidth\":0,\"ticks\":\"\"}},\"type\":\"scatterpolargl\"}],\"scatterpolar\":[{\"marker\":{\"colorbar\":{\"outlinewidth\":0,\"ticks\":\"\"}},\"type\":\"scatterpolar\"}],\"scatter\":[{\"fillpattern\":{\"fillmode\":\"overlay\",\"size\":10,\"solidity\":0.2},\"type\":\"scatter\"}],\"scatterternary\":[{\"marker\":{\"colorbar\":{\"outlinewidth\":0,\"ticks\":\"\"}},\"type\":\"scatterternary\"}],\"surface\":[{\"colorbar\":{\"outlinewidth\":0,\"ticks\":\"\"},\"colorscale\":[[0.0,\"#0d0887\"],[0.1111111111111111,\"#46039f\"],[0.2222222222222222,\"#7201a8\"],[0.3333333333333333,\"#9c179e\"],[0.4444444444444444,\"#bd3786\"],[0.5555555555555556,\"#d8576b\"],[0.6666666666666666,\"#ed7953\"],[0.7777777777777778,\"#fb9f3a\"],[0.8888888888888888,\"#fdca26\"],[1.0,\"#f0f921\"]],\"type\":\"surface\"}],\"table\":[{\"cells\":{\"fill\":{\"color\":\"#EBF0F8\"},\"line\":{\"color\":\"white\"}},\"header\":{\"fill\":{\"color\":\"#C8D4E3\"},\"line\":{\"color\":\"white\"}},\"type\":\"table\"}]},\"layout\":{\"annotationdefaults\":{\"arrowcolor\":\"#2a3f5f\",\"arrowhead\":0,\"arrowwidth\":1},\"autotypenumbers\":\"strict\",\"coloraxis\":{\"colorbar\":{\"outlinewidth\":0,\"ticks\":\"\"}},\"colorscale\":{\"diverging\":[[0,\"#8e0152\"],[0.1,\"#c51b7d\"],[0.2,\"#de77ae\"],[0.3,\"#f1b6da\"],[0.4,\"#fde0ef\"],[0.5,\"#f7f7f7\"],[0.6,\"#e6f5d0\"],[0.7,\"#b8e186\"],[0.8,\"#7fbc41\"],[0.9,\"#4d9221\"],[1,\"#276419\"]],\"sequential\":[[0.0,\"#0d0887\"],[0.1111111111111111,\"#46039f\"],[0.2222222222222222,\"#7201a8\"],[0.3333333333333333,\"#9c179e\"],[0.4444444444444444,\"#bd3786\"],[0.5555555555555556,\"#d8576b\"],[0.6666666666666666,\"#ed7953\"],[0.7777777777777778,\"#fb9f3a\"],[0.8888888888888888,\"#fdca26\"],[1.0,\"#f0f921\"]],\"sequentialminus\":[[0.0,\"#0d0887\"],[0.1111111111111111,\"#46039f\"],[0.2222222222222222,\"#7201a8\"],[0.3333333333333333,\"#9c179e\"],[0.4444444444444444,\"#bd3786\"],[0.5555555555555556,\"#d8576b\"],[0.6666666666666666,\"#ed7953\"],[0.7777777777777778,\"#fb9f3a\"],[0.8888888888888888,\"#fdca26\"],[1.0,\"#f0f921\"]]},\"colorway\":[\"#636efa\",\"#EF553B\",\"#00cc96\",\"#ab63fa\",\"#FFA15A\",\"#19d3f3\",\"#FF6692\",\"#B6E880\",\"#FF97FF\",\"#FECB52\"],\"font\":{\"color\":\"#2a3f5f\"},\"geo\":{\"bgcolor\":\"white\",\"lakecolor\":\"white\",\"landcolor\":\"white\",\"showlakes\":true,\"showland\":true,\"subunitcolor\":\"#C8D4E3\"},\"hoverlabel\":{\"align\":\"left\"},\"hovermode\":\"closest\",\"mapbox\":{\"style\":\"light\"},\"paper_bgcolor\":\"white\",\"plot_bgcolor\":\"white\",\"polar\":{\"angularaxis\":{\"gridcolor\":\"#EBF0F8\",\"linecolor\":\"#EBF0F8\",\"ticks\":\"\"},\"bgcolor\":\"white\",\"radialaxis\":{\"gridcolor\":\"#EBF0F8\",\"linecolor\":\"#EBF0F8\",\"ticks\":\"\"}},\"scene\":{\"xaxis\":{\"backgroundcolor\":\"white\",\"gridcolor\":\"#DFE8F3\",\"gridwidth\":2,\"linecolor\":\"#EBF0F8\",\"showbackground\":true,\"ticks\":\"\",\"zerolinecolor\":\"#EBF0F8\"},\"yaxis\":{\"backgroundcolor\":\"white\",\"gridcolor\":\"#DFE8F3\",\"gridwidth\":2,\"linecolor\":\"#EBF0F8\",\"showbackground\":true,\"ticks\":\"\",\"zerolinecolor\":\"#EBF0F8\"},\"zaxis\":{\"backgroundcolor\":\"white\",\"gridcolor\":\"#DFE8F3\",\"gridwidth\":2,\"linecolor\":\"#EBF0F8\",\"showbackground\":true,\"ticks\":\"\",\"zerolinecolor\":\"#EBF0F8\"}},\"shapedefaults\":{\"line\":{\"color\":\"#2a3f5f\"}},\"ternary\":{\"aaxis\":{\"gridcolor\":\"#DFE8F3\",\"linecolor\":\"#A2B1C6\",\"ticks\":\"\"},\"baxis\":{\"gridcolor\":\"#DFE8F3\",\"linecolor\":\"#A2B1C6\",\"ticks\":\"\"},\"bgcolor\":\"white\",\"caxis\":{\"gridcolor\":\"#DFE8F3\",\"linecolor\":\"#A2B1C6\",\"ticks\":\"\"}},\"title\":{\"x\":0.05},\"xaxis\":{\"automargin\":true,\"gridcolor\":\"#EBF0F8\",\"linecolor\":\"#EBF0F8\",\"ticks\":\"\",\"title\":{\"standoff\":15},\"zerolinecolor\":\"#EBF0F8\",\"zerolinewidth\":2},\"yaxis\":{\"automargin\":true,\"gridcolor\":\"#EBF0F8\",\"linecolor\":\"#EBF0F8\",\"ticks\":\"\",\"title\":{\"standoff\":15},\"zerolinecolor\":\"#EBF0F8\",\"zerolinewidth\":2}}},\"xaxis\":{\"anchor\":\"y\",\"domain\":[0.0,1.0],\"title\":{\"text\":\"Fecha\"}},\"yaxis\":{\"anchor\":\"x\",\"domain\":[0.7666666666666666,0.9999999999999999],\"title\":{\"text\":\"Ventas Totales\"}},\"xaxis2\":{\"anchor\":\"y2\",\"domain\":[0.0,1.0],\"title\":{\"text\":\"Fecha\"}},\"yaxis2\":{\"anchor\":\"x2\",\"domain\":[0.3833333333333333,0.6166666666666666],\"title\":{\"text\":\"Tendencia\"}},\"xaxis3\":{\"anchor\":\"y3\",\"domain\":[0.0,1.0],\"title\":{\"text\":\"Fecha\"}},\"yaxis3\":{\"anchor\":\"x3\",\"domain\":[0.0,0.2333333333333333],\"title\":{\"text\":\"Estacionalidad\"}},\"annotations\":[{\"font\":{\"size\":16},\"showarrow\":false,\"text\":\"Ventas Originales (España)\",\"x\":0.5,\"xanchor\":\"center\",\"xref\":\"paper\",\"y\":0.9999999999999999,\"yanchor\":\"bottom\",\"yref\":\"paper\"},{\"font\":{\"size\":16},\"showarrow\":false,\"text\":\"Tendencia de las Ventas\",\"x\":0.5,\"xanchor\":\"center\",\"xref\":\"paper\",\"y\":0.6166666666666666,\"yanchor\":\"bottom\",\"yref\":\"paper\"},{\"font\":{\"size\":16},\"showarrow\":false,\"text\":\"Estacionalidad de las Ventas\",\"x\":0.5,\"xanchor\":\"center\",\"xref\":\"paper\",\"y\":0.2333333333333333,\"yanchor\":\"bottom\",\"yref\":\"paper\"}],\"title\":{\"text\":\"Descomposición de la Serie Temporal de Ventas (España)\"},\"height\":800,\"showlegend\":false},                        {\"responsive\": true}                    ).then(function(){\n",
              "                            \n",
              "var gd = document.getElementById('de5996b0-2d4d-4a60-9cb5-cbdd4399fce9');\n",
              "var x = new MutationObserver(function (mutations, observer) {{\n",
              "        var display = window.getComputedStyle(gd).display;\n",
              "        if (!display || display === 'none') {{\n",
              "            console.log([gd, 'removed!']);\n",
              "            Plotly.purge(gd);\n",
              "            observer.disconnect();\n",
              "        }}\n",
              "}});\n",
              "\n",
              "// Listen for the removal of the full notebook cells\n",
              "var notebookContainer = gd.closest('#notebook-container');\n",
              "if (notebookContainer) {{\n",
              "    x.observe(notebookContainer, {childList: true});\n",
              "}}\n",
              "\n",
              "// Listen for the clearing of the current output cell\n",
              "var outputEl = gd.closest('.output');\n",
              "if (outputEl) {{\n",
              "    x.observe(outputEl, {childList: true});\n",
              "}}\n",
              "\n",
              "                        })                };                            </script>        </div>\n",
              "</body>\n",
              "</html>"
            ]
          },
          "metadata": {}
        }
      ]
    },
    {
      "cell_type": "markdown",
      "source": [
        "La marca con más ventas"
      ],
      "metadata": {
        "id": "wa-76KC3sB1T"
      }
    },
    {
      "cell_type": "code",
      "source": [
        "# Encontrar la submarca con más ventas usando el índice del valor máximo\n",
        "subbrand_max_sales = sales_by_brand.loc[sales_by_brand['AMOUNT'].idxmax(), 'SUBBRAND']\n",
        "\n",
        "# Filtrar los datos para la submarca con más ventas\n",
        "data_max_sales_subbrand = data_actuals[data_actuals['SUBBRAND'] == subbrand_max_sales]\n",
        "\n",
        "# Ordenar los datos de la submarca con más ventas por fecha\n",
        "data_max_sales_subbrand = data_max_sales_subbrand.sort_values(by='DATE')\n",
        "\n",
        "# Filtrar los datos para el análisis de tendencia y estacionalidad\n",
        "ventas_subbrand = data_max_sales_subbrand.groupby(['DATE'])['AMOUNT'].sum()\n",
        "\n",
        "# Descomposición estacional\n",
        "resultados_decomposicion = seasonal_decompose(ventas_subbrand, model='additive', period=6)\n",
        "\n",
        "# Crear una figura con 3 filas para la serie original, tendencia y estacionalidad\n",
        "fig = make_subplots(rows=3, cols=1,\n",
        "                    subplot_titles=[\n",
        "                        f'Ventas Originales ({subbrand_max_sales})',\n",
        "                        'Tendencia de las Ventas',\n",
        "                        'Estacionalidad de las Ventas'\n",
        "                    ],\n",
        "                    vertical_spacing=0.1)\n",
        "\n",
        "# Gráfico de la serie original\n",
        "fig.add_trace(\n",
        "    go.Scatter(x=ventas_subbrand.index, y=ventas_subbrand, mode='lines', name='Ventas Originales', line=dict(color='blue')),\n",
        "    row=1, col=1\n",
        ")\n",
        "\n",
        "# Gráfico de la tendencia\n",
        "fig.add_trace(\n",
        "    go.Scatter(x=resultados_decomposicion.trend.index, y=resultados_decomposicion.trend, mode='lines', name='Tendencia', line=dict(color='orange')),\n",
        "    row=2, col=1\n",
        ")\n",
        "\n",
        "# Gráfico de la estacionalidad\n",
        "fig.add_trace(\n",
        "    go.Scatter(x=resultados_decomposicion.seasonal.index, y=resultados_decomposicion.seasonal, mode='lines', name='Estacionalidad', line=dict(color='green')),\n",
        "    row=3, col=1\n",
        ")\n",
        "\n",
        "# Configuración de los ejes y diseño\n",
        "fig.update_xaxes(title_text=\"Fecha\", row=1, col=1)\n",
        "fig.update_xaxes(title_text=\"Fecha\", row=2, col=1)\n",
        "fig.update_xaxes(title_text=\"Fecha\", row=3, col=1)\n",
        "\n",
        "fig.update_yaxes(title_text=\"Ventas Totales\", row=1, col=1)\n",
        "fig.update_yaxes(title_text=\"Tendencia\", row=2, col=1)\n",
        "fig.update_yaxes(title_text=\"Estacionalidad\", row=3, col=1)\n",
        "\n",
        "fig.update_layout(\n",
        "    height=800,\n",
        "    title_text=f\"Descomposición de la Serie Temporal de Ventas ({subbrand_max_sales})\",\n",
        "    showlegend=False,\n",
        "    template=\"plotly_white\"\n",
        ")\n",
        "\n",
        "# Mostrar la figura\n",
        "fig.show()\n"
      ],
      "metadata": {
        "colab": {
          "base_uri": "https://localhost:8080/",
          "height": 817
        },
        "id": "5ZFDBmKvsFMl",
        "outputId": "77eb6842-859b-4735-8947-46d106f68285"
      },
      "execution_count": 13,
      "outputs": [
        {
          "output_type": "display_data",
          "data": {
            "text/html": [
              "<html>\n",
              "<head><meta charset=\"utf-8\" /></head>\n",
              "<body>\n",
              "    <div>            <script src=\"https://cdnjs.cloudflare.com/ajax/libs/mathjax/2.7.5/MathJax.js?config=TeX-AMS-MML_SVG\"></script><script type=\"text/javascript\">if (window.MathJax && window.MathJax.Hub && window.MathJax.Hub.Config) {window.MathJax.Hub.Config({SVG: {font: \"STIX-Web\"}});}</script>                <script type=\"text/javascript\">window.PlotlyConfig = {MathJaxConfig: 'local'};</script>\n",
              "        <script charset=\"utf-8\" src=\"https://cdn.plot.ly/plotly-2.35.2.min.js\"></script>                <div id=\"2a738d89-f0f7-476b-9eca-e39de80a4f54\" class=\"plotly-graph-div\" style=\"height:800px; width:100%;\"></div>            <script type=\"text/javascript\">                                    window.PLOTLYENV=window.PLOTLYENV || {};                                    if (document.getElementById(\"2a738d89-f0f7-476b-9eca-e39de80a4f54\")) {                    Plotly.newPlot(                        \"2a738d89-f0f7-476b-9eca-e39de80a4f54\",                        [{\"line\":{\"color\":\"blue\"},\"mode\":\"lines\",\"name\":\"Ventas Originales\",\"x\":[\"2023-01-01T00:00:00\",\"2023-02-01T00:00:00\",\"2023-03-01T00:00:00\",\"2023-04-01T00:00:00\",\"2023-05-01T00:00:00\",\"2023-06-01T00:00:00\",\"2023-07-01T00:00:00\",\"2023-08-01T00:00:00\",\"2023-09-01T00:00:00\",\"2023-10-01T00:00:00\",\"2023-11-01T00:00:00\",\"2023-12-01T00:00:00\",\"2024-01-01T00:00:00\",\"2024-02-01T00:00:00\",\"2024-03-01T00:00:00\",\"2024-04-01T00:00:00\",\"2024-05-01T00:00:00\",\"2024-06-01T00:00:00\",\"2024-07-01T00:00:00\",\"2024-08-01T00:00:00\"],\"y\":[14856548.128605943,15463315.967256768,20873551.914991353,17934944.15249419,22325446.036569193,21328548.8814003,18368657.109468464,21608180.963240135,19652280.390064318,18626907.831478518,20722021.60754396,21701863.908770297,15624249.97952067,18256940.639119446,21254343.204710368,20238337.239872657,23110133.530175477,21238809.837675165,20779660.905810736,22733928.40504956],\"type\":\"scatter\",\"xaxis\":\"x\",\"yaxis\":\"y\"},{\"line\":{\"color\":\"orange\"},\"mode\":\"lines\",\"name\":\"Tendencia\",\"x\":[\"2023-01-01T00:00:00\",\"2023-02-01T00:00:00\",\"2023-03-01T00:00:00\",\"2023-04-01T00:00:00\",\"2023-05-01T00:00:00\",\"2023-06-01T00:00:00\",\"2023-07-01T00:00:00\",\"2023-08-01T00:00:00\",\"2023-09-01T00:00:00\",\"2023-10-01T00:00:00\",\"2023-11-01T00:00:00\",\"2023-12-01T00:00:00\",\"2024-01-01T00:00:00\",\"2024-02-01T00:00:00\",\"2024-03-01T00:00:00\",\"2024-04-01T00:00:00\",\"2024-05-01T00:00:00\",\"2024-06-01T00:00:00\",\"2024-07-01T00:00:00\",\"2024-08-01T00:00:00\"],\"y\":[null,null,null,19089734.92862483,19894482.76002866,20304782.215950016,20260673.228788126,20184718.166284718,20082209.049480114,19884618.040931962,19376647.41975959,19230882.62730337,19498673.645890053,19831968.75680886,19992390.24443689,20383419.982369803,21186119.87338815,null,null,null],\"type\":\"scatter\",\"xaxis\":\"x2\",\"yaxis\":\"y2\"},{\"line\":{\"color\":\"green\"},\"mode\":\"lines\",\"name\":\"Estacionalidad\",\"x\":[\"2023-01-01T00:00:00\",\"2023-02-01T00:00:00\",\"2023-03-01T00:00:00\",\"2023-04-01T00:00:00\",\"2023-05-01T00:00:00\",\"2023-06-01T00:00:00\",\"2023-07-01T00:00:00\",\"2023-08-01T00:00:00\",\"2023-09-01T00:00:00\",\"2023-10-01T00:00:00\",\"2023-11-01T00:00:00\",\"2023-12-01T00:00:00\",\"2024-01-01T00:00:00\",\"2024-02-01T00:00:00\",\"2024-03-01T00:00:00\",\"2024-04-01T00:00:00\",\"2024-05-01T00:00:00\",\"2024-06-01T00:00:00\",\"2024-07-01T00:00:00\",\"2024-08-01T00:00:00\"],\"y\":[-2925215.3431255664,-117778.1106480401,374016.7001477979,-894523.3596414542,1858121.5900897007,1705378.5231775618,-2925215.3431255664,-117778.1106480401,374016.7001477979,-894523.3596414542,1858121.5900897007,1705378.5231775618,-2925215.3431255664,-117778.1106480401,374016.7001477979,-894523.3596414542,1858121.5900897007,1705378.5231775618,-2925215.3431255664,-117778.1106480401],\"type\":\"scatter\",\"xaxis\":\"x3\",\"yaxis\":\"y3\"}],                        {\"template\":{\"data\":{\"barpolar\":[{\"marker\":{\"line\":{\"color\":\"white\",\"width\":0.5},\"pattern\":{\"fillmode\":\"overlay\",\"size\":10,\"solidity\":0.2}},\"type\":\"barpolar\"}],\"bar\":[{\"error_x\":{\"color\":\"#2a3f5f\"},\"error_y\":{\"color\":\"#2a3f5f\"},\"marker\":{\"line\":{\"color\":\"white\",\"width\":0.5},\"pattern\":{\"fillmode\":\"overlay\",\"size\":10,\"solidity\":0.2}},\"type\":\"bar\"}],\"carpet\":[{\"aaxis\":{\"endlinecolor\":\"#2a3f5f\",\"gridcolor\":\"#C8D4E3\",\"linecolor\":\"#C8D4E3\",\"minorgridcolor\":\"#C8D4E3\",\"startlinecolor\":\"#2a3f5f\"},\"baxis\":{\"endlinecolor\":\"#2a3f5f\",\"gridcolor\":\"#C8D4E3\",\"linecolor\":\"#C8D4E3\",\"minorgridcolor\":\"#C8D4E3\",\"startlinecolor\":\"#2a3f5f\"},\"type\":\"carpet\"}],\"choropleth\":[{\"colorbar\":{\"outlinewidth\":0,\"ticks\":\"\"},\"type\":\"choropleth\"}],\"contourcarpet\":[{\"colorbar\":{\"outlinewidth\":0,\"ticks\":\"\"},\"type\":\"contourcarpet\"}],\"contour\":[{\"colorbar\":{\"outlinewidth\":0,\"ticks\":\"\"},\"colorscale\":[[0.0,\"#0d0887\"],[0.1111111111111111,\"#46039f\"],[0.2222222222222222,\"#7201a8\"],[0.3333333333333333,\"#9c179e\"],[0.4444444444444444,\"#bd3786\"],[0.5555555555555556,\"#d8576b\"],[0.6666666666666666,\"#ed7953\"],[0.7777777777777778,\"#fb9f3a\"],[0.8888888888888888,\"#fdca26\"],[1.0,\"#f0f921\"]],\"type\":\"contour\"}],\"heatmapgl\":[{\"colorbar\":{\"outlinewidth\":0,\"ticks\":\"\"},\"colorscale\":[[0.0,\"#0d0887\"],[0.1111111111111111,\"#46039f\"],[0.2222222222222222,\"#7201a8\"],[0.3333333333333333,\"#9c179e\"],[0.4444444444444444,\"#bd3786\"],[0.5555555555555556,\"#d8576b\"],[0.6666666666666666,\"#ed7953\"],[0.7777777777777778,\"#fb9f3a\"],[0.8888888888888888,\"#fdca26\"],[1.0,\"#f0f921\"]],\"type\":\"heatmapgl\"}],\"heatmap\":[{\"colorbar\":{\"outlinewidth\":0,\"ticks\":\"\"},\"colorscale\":[[0.0,\"#0d0887\"],[0.1111111111111111,\"#46039f\"],[0.2222222222222222,\"#7201a8\"],[0.3333333333333333,\"#9c179e\"],[0.4444444444444444,\"#bd3786\"],[0.5555555555555556,\"#d8576b\"],[0.6666666666666666,\"#ed7953\"],[0.7777777777777778,\"#fb9f3a\"],[0.8888888888888888,\"#fdca26\"],[1.0,\"#f0f921\"]],\"type\":\"heatmap\"}],\"histogram2dcontour\":[{\"colorbar\":{\"outlinewidth\":0,\"ticks\":\"\"},\"colorscale\":[[0.0,\"#0d0887\"],[0.1111111111111111,\"#46039f\"],[0.2222222222222222,\"#7201a8\"],[0.3333333333333333,\"#9c179e\"],[0.4444444444444444,\"#bd3786\"],[0.5555555555555556,\"#d8576b\"],[0.6666666666666666,\"#ed7953\"],[0.7777777777777778,\"#fb9f3a\"],[0.8888888888888888,\"#fdca26\"],[1.0,\"#f0f921\"]],\"type\":\"histogram2dcontour\"}],\"histogram2d\":[{\"colorbar\":{\"outlinewidth\":0,\"ticks\":\"\"},\"colorscale\":[[0.0,\"#0d0887\"],[0.1111111111111111,\"#46039f\"],[0.2222222222222222,\"#7201a8\"],[0.3333333333333333,\"#9c179e\"],[0.4444444444444444,\"#bd3786\"],[0.5555555555555556,\"#d8576b\"],[0.6666666666666666,\"#ed7953\"],[0.7777777777777778,\"#fb9f3a\"],[0.8888888888888888,\"#fdca26\"],[1.0,\"#f0f921\"]],\"type\":\"histogram2d\"}],\"histogram\":[{\"marker\":{\"pattern\":{\"fillmode\":\"overlay\",\"size\":10,\"solidity\":0.2}},\"type\":\"histogram\"}],\"mesh3d\":[{\"colorbar\":{\"outlinewidth\":0,\"ticks\":\"\"},\"type\":\"mesh3d\"}],\"parcoords\":[{\"line\":{\"colorbar\":{\"outlinewidth\":0,\"ticks\":\"\"}},\"type\":\"parcoords\"}],\"pie\":[{\"automargin\":true,\"type\":\"pie\"}],\"scatter3d\":[{\"line\":{\"colorbar\":{\"outlinewidth\":0,\"ticks\":\"\"}},\"marker\":{\"colorbar\":{\"outlinewidth\":0,\"ticks\":\"\"}},\"type\":\"scatter3d\"}],\"scattercarpet\":[{\"marker\":{\"colorbar\":{\"outlinewidth\":0,\"ticks\":\"\"}},\"type\":\"scattercarpet\"}],\"scattergeo\":[{\"marker\":{\"colorbar\":{\"outlinewidth\":0,\"ticks\":\"\"}},\"type\":\"scattergeo\"}],\"scattergl\":[{\"marker\":{\"colorbar\":{\"outlinewidth\":0,\"ticks\":\"\"}},\"type\":\"scattergl\"}],\"scattermapbox\":[{\"marker\":{\"colorbar\":{\"outlinewidth\":0,\"ticks\":\"\"}},\"type\":\"scattermapbox\"}],\"scatterpolargl\":[{\"marker\":{\"colorbar\":{\"outlinewidth\":0,\"ticks\":\"\"}},\"type\":\"scatterpolargl\"}],\"scatterpolar\":[{\"marker\":{\"colorbar\":{\"outlinewidth\":0,\"ticks\":\"\"}},\"type\":\"scatterpolar\"}],\"scatter\":[{\"fillpattern\":{\"fillmode\":\"overlay\",\"size\":10,\"solidity\":0.2},\"type\":\"scatter\"}],\"scatterternary\":[{\"marker\":{\"colorbar\":{\"outlinewidth\":0,\"ticks\":\"\"}},\"type\":\"scatterternary\"}],\"surface\":[{\"colorbar\":{\"outlinewidth\":0,\"ticks\":\"\"},\"colorscale\":[[0.0,\"#0d0887\"],[0.1111111111111111,\"#46039f\"],[0.2222222222222222,\"#7201a8\"],[0.3333333333333333,\"#9c179e\"],[0.4444444444444444,\"#bd3786\"],[0.5555555555555556,\"#d8576b\"],[0.6666666666666666,\"#ed7953\"],[0.7777777777777778,\"#fb9f3a\"],[0.8888888888888888,\"#fdca26\"],[1.0,\"#f0f921\"]],\"type\":\"surface\"}],\"table\":[{\"cells\":{\"fill\":{\"color\":\"#EBF0F8\"},\"line\":{\"color\":\"white\"}},\"header\":{\"fill\":{\"color\":\"#C8D4E3\"},\"line\":{\"color\":\"white\"}},\"type\":\"table\"}]},\"layout\":{\"annotationdefaults\":{\"arrowcolor\":\"#2a3f5f\",\"arrowhead\":0,\"arrowwidth\":1},\"autotypenumbers\":\"strict\",\"coloraxis\":{\"colorbar\":{\"outlinewidth\":0,\"ticks\":\"\"}},\"colorscale\":{\"diverging\":[[0,\"#8e0152\"],[0.1,\"#c51b7d\"],[0.2,\"#de77ae\"],[0.3,\"#f1b6da\"],[0.4,\"#fde0ef\"],[0.5,\"#f7f7f7\"],[0.6,\"#e6f5d0\"],[0.7,\"#b8e186\"],[0.8,\"#7fbc41\"],[0.9,\"#4d9221\"],[1,\"#276419\"]],\"sequential\":[[0.0,\"#0d0887\"],[0.1111111111111111,\"#46039f\"],[0.2222222222222222,\"#7201a8\"],[0.3333333333333333,\"#9c179e\"],[0.4444444444444444,\"#bd3786\"],[0.5555555555555556,\"#d8576b\"],[0.6666666666666666,\"#ed7953\"],[0.7777777777777778,\"#fb9f3a\"],[0.8888888888888888,\"#fdca26\"],[1.0,\"#f0f921\"]],\"sequentialminus\":[[0.0,\"#0d0887\"],[0.1111111111111111,\"#46039f\"],[0.2222222222222222,\"#7201a8\"],[0.3333333333333333,\"#9c179e\"],[0.4444444444444444,\"#bd3786\"],[0.5555555555555556,\"#d8576b\"],[0.6666666666666666,\"#ed7953\"],[0.7777777777777778,\"#fb9f3a\"],[0.8888888888888888,\"#fdca26\"],[1.0,\"#f0f921\"]]},\"colorway\":[\"#636efa\",\"#EF553B\",\"#00cc96\",\"#ab63fa\",\"#FFA15A\",\"#19d3f3\",\"#FF6692\",\"#B6E880\",\"#FF97FF\",\"#FECB52\"],\"font\":{\"color\":\"#2a3f5f\"},\"geo\":{\"bgcolor\":\"white\",\"lakecolor\":\"white\",\"landcolor\":\"white\",\"showlakes\":true,\"showland\":true,\"subunitcolor\":\"#C8D4E3\"},\"hoverlabel\":{\"align\":\"left\"},\"hovermode\":\"closest\",\"mapbox\":{\"style\":\"light\"},\"paper_bgcolor\":\"white\",\"plot_bgcolor\":\"white\",\"polar\":{\"angularaxis\":{\"gridcolor\":\"#EBF0F8\",\"linecolor\":\"#EBF0F8\",\"ticks\":\"\"},\"bgcolor\":\"white\",\"radialaxis\":{\"gridcolor\":\"#EBF0F8\",\"linecolor\":\"#EBF0F8\",\"ticks\":\"\"}},\"scene\":{\"xaxis\":{\"backgroundcolor\":\"white\",\"gridcolor\":\"#DFE8F3\",\"gridwidth\":2,\"linecolor\":\"#EBF0F8\",\"showbackground\":true,\"ticks\":\"\",\"zerolinecolor\":\"#EBF0F8\"},\"yaxis\":{\"backgroundcolor\":\"white\",\"gridcolor\":\"#DFE8F3\",\"gridwidth\":2,\"linecolor\":\"#EBF0F8\",\"showbackground\":true,\"ticks\":\"\",\"zerolinecolor\":\"#EBF0F8\"},\"zaxis\":{\"backgroundcolor\":\"white\",\"gridcolor\":\"#DFE8F3\",\"gridwidth\":2,\"linecolor\":\"#EBF0F8\",\"showbackground\":true,\"ticks\":\"\",\"zerolinecolor\":\"#EBF0F8\"}},\"shapedefaults\":{\"line\":{\"color\":\"#2a3f5f\"}},\"ternary\":{\"aaxis\":{\"gridcolor\":\"#DFE8F3\",\"linecolor\":\"#A2B1C6\",\"ticks\":\"\"},\"baxis\":{\"gridcolor\":\"#DFE8F3\",\"linecolor\":\"#A2B1C6\",\"ticks\":\"\"},\"bgcolor\":\"white\",\"caxis\":{\"gridcolor\":\"#DFE8F3\",\"linecolor\":\"#A2B1C6\",\"ticks\":\"\"}},\"title\":{\"x\":0.05},\"xaxis\":{\"automargin\":true,\"gridcolor\":\"#EBF0F8\",\"linecolor\":\"#EBF0F8\",\"ticks\":\"\",\"title\":{\"standoff\":15},\"zerolinecolor\":\"#EBF0F8\",\"zerolinewidth\":2},\"yaxis\":{\"automargin\":true,\"gridcolor\":\"#EBF0F8\",\"linecolor\":\"#EBF0F8\",\"ticks\":\"\",\"title\":{\"standoff\":15},\"zerolinecolor\":\"#EBF0F8\",\"zerolinewidth\":2}}},\"xaxis\":{\"anchor\":\"y\",\"domain\":[0.0,1.0],\"title\":{\"text\":\"Fecha\"}},\"yaxis\":{\"anchor\":\"x\",\"domain\":[0.7333333333333334,1.0],\"title\":{\"text\":\"Ventas Totales\"}},\"xaxis2\":{\"anchor\":\"y2\",\"domain\":[0.0,1.0],\"title\":{\"text\":\"Fecha\"}},\"yaxis2\":{\"anchor\":\"x2\",\"domain\":[0.3666666666666667,0.6333333333333333],\"title\":{\"text\":\"Tendencia\"}},\"xaxis3\":{\"anchor\":\"y3\",\"domain\":[0.0,1.0],\"title\":{\"text\":\"Fecha\"}},\"yaxis3\":{\"anchor\":\"x3\",\"domain\":[0.0,0.26666666666666666],\"title\":{\"text\":\"Estacionalidad\"}},\"annotations\":[{\"font\":{\"size\":16},\"showarrow\":false,\"text\":\"Ventas Originales (Pepsi Max (L3))\",\"x\":0.5,\"xanchor\":\"center\",\"xref\":\"paper\",\"y\":1.0,\"yanchor\":\"bottom\",\"yref\":\"paper\"},{\"font\":{\"size\":16},\"showarrow\":false,\"text\":\"Tendencia de las Ventas\",\"x\":0.5,\"xanchor\":\"center\",\"xref\":\"paper\",\"y\":0.6333333333333333,\"yanchor\":\"bottom\",\"yref\":\"paper\"},{\"font\":{\"size\":16},\"showarrow\":false,\"text\":\"Estacionalidad de las Ventas\",\"x\":0.5,\"xanchor\":\"center\",\"xref\":\"paper\",\"y\":0.26666666666666666,\"yanchor\":\"bottom\",\"yref\":\"paper\"}],\"title\":{\"text\":\"Descomposición de la Serie Temporal de Ventas (Pepsi Max (L3))\"},\"height\":800,\"showlegend\":false},                        {\"responsive\": true}                    ).then(function(){\n",
              "                            \n",
              "var gd = document.getElementById('2a738d89-f0f7-476b-9eca-e39de80a4f54');\n",
              "var x = new MutationObserver(function (mutations, observer) {{\n",
              "        var display = window.getComputedStyle(gd).display;\n",
              "        if (!display || display === 'none') {{\n",
              "            console.log([gd, 'removed!']);\n",
              "            Plotly.purge(gd);\n",
              "            observer.disconnect();\n",
              "        }}\n",
              "}});\n",
              "\n",
              "// Listen for the removal of the full notebook cells\n",
              "var notebookContainer = gd.closest('#notebook-container');\n",
              "if (notebookContainer) {{\n",
              "    x.observe(notebookContainer, {childList: true});\n",
              "}}\n",
              "\n",
              "// Listen for the clearing of the current output cell\n",
              "var outputEl = gd.closest('.output');\n",
              "if (outputEl) {{\n",
              "    x.observe(outputEl, {childList: true});\n",
              "}}\n",
              "\n",
              "                        })                };                            </script>        </div>\n",
              "</body>\n",
              "</html>"
            ]
          },
          "metadata": {}
        }
      ]
    },
    {
      "cell_type": "markdown",
      "source": [
        "# **3. Cuáles son las predicciones hechas en España y cómo de buenas son.**"
      ],
      "metadata": {
        "id": "ovoRy70usIIf"
      }
    },
    {
      "cell_type": "code",
      "source": [
        "import plotly.graph_objects as go\n",
        "import pandas as pd\n",
        "from sklearn.metrics import mean_absolute_error\n",
        "\n",
        "# Filtrar los datos para España\n",
        "df_spain = datos[datos['COUNTRY'] == 'Spain'].copy()\n",
        "\n",
        "# Crear DataFrames separados para las ventas actuales y predichas\n",
        "df_actual = df_spain[df_spain['SCENARIO'] == 'actual'].copy()\n",
        "df_forecast = df_spain[df_spain['SCENARIO'] == 'AI_forecast'].copy()\n",
        "\n",
        "# Crear la columna de fecha\n",
        "df_actual['DATE'] = pd.to_datetime(df_actual[['YEAR', 'MONTH']].assign(DAY=1))\n",
        "df_forecast['DATE'] = pd.to_datetime(df_forecast[['YEAR', 'MONTH']].assign(DAY=1))\n",
        "\n",
        "# Agrupar las ventas reales por mes y año\n",
        "sales_actual = df_actual.groupby('DATE')['AMOUNT'].sum().reset_index()\n",
        "\n",
        "# Definir las predicciones bien ajustadas y mal ajustadas\n",
        "predicciones_ajustadas = ['AI_PF', 'AI_P02F', 'AI_P03F']\n",
        "predicciones_no_ajustadas = [f for f in df_forecast['FORECAST'].unique() if f not in predicciones_ajustadas]\n",
        "\n",
        "# Calcular y mostrar MAE para predicciones bien ajustadas\n",
        "mae_ajustadas = {}\n",
        "for forecast_type in predicciones_ajustadas:\n",
        "    forecast_data = df_forecast[df_forecast['FORECAST'] == forecast_type]\n",
        "    sales_forecast = forecast_data.groupby('DATE')['AMOUNT'].sum().reset_index()\n",
        "    merged_data = pd.merge(sales_actual, sales_forecast, on='DATE', suffixes=('_actual', '_forecast'))\n",
        "    mae_ajustadas[forecast_type] = mean_absolute_error(merged_data['AMOUNT_actual'], merged_data['AMOUNT_forecast'])\n",
        "\n",
        "print(\"MAE para predicciones bien ajustadas:\")\n",
        "for forecast_type, mae in mae_ajustadas.items():\n",
        "    print(f\"{forecast_type}: {mae}\")\n",
        "\n",
        "# Calcular y mostrar MAE para predicciones no ajustadas\n",
        "mae_no_ajustadas = {}\n",
        "for forecast_type in predicciones_no_ajustadas:\n",
        "    forecast_data = df_forecast[df_forecast['FORECAST'] == forecast_type]\n",
        "    sales_forecast = forecast_data.groupby('DATE')['AMOUNT'].sum().reset_index()\n",
        "    merged_data = pd.merge(sales_actual, sales_forecast, on='DATE', suffixes=('_actual', '_forecast'))\n",
        "    mae_no_ajustadas[forecast_type] = mean_absolute_error(merged_data['AMOUNT_actual'], merged_data['AMOUNT_forecast'])\n",
        "\n",
        "print(\"MAE para predicciones no ajustadas:\")\n",
        "for forecast_type, mae in mae_no_ajustadas.items():\n",
        "    print(f\"{forecast_type}: {mae}\")\n",
        "\n",
        "# Primer gráfico: Ventas reales y predicciones bien ajustadas\n",
        "fig_ajustadas = go.Figure()\n",
        "\n",
        "# Añadir la línea de ventas reales\n",
        "fig_ajustadas.add_trace(go.Scatter(\n",
        "    x=sales_actual['DATE'],\n",
        "    y=sales_actual['AMOUNT'],\n",
        "    mode='lines+markers',\n",
        "    name='Ventas Reales (Actual)',\n",
        "    line=dict(color='blue')\n",
        "))\n",
        "\n",
        "# Añadir cada línea de predicción bien ajustada\n",
        "for forecast_type in predicciones_ajustadas:\n",
        "    forecast_data = df_forecast[df_forecast['FORECAST'] == forecast_type]\n",
        "    sales_forecast = forecast_data.groupby('DATE')['AMOUNT'].sum().reset_index()\n",
        "\n",
        "    fig_ajustadas.add_trace(go.Scatter(\n",
        "        x=sales_forecast['DATE'],\n",
        "        y=sales_forecast['AMOUNT'],\n",
        "        mode='lines+markers',\n",
        "        name=f'Predicción {forecast_type} (MAE: {mae_ajustadas[forecast_type]:.2f})',\n",
        "        line=dict(dash='dash')  # Línea discontinua para diferenciar predicciones de las ventas reales\n",
        "    ))\n",
        "\n",
        "# Configuración del primer gráfico\n",
        "fig_ajustadas.update_layout(\n",
        "    title='Comparación de Ventas Reales vs. Predicciones Ajustadas (España)',\n",
        "    xaxis_title='Fecha',\n",
        "    yaxis_title='Cantidad Ventas',\n",
        "    legend=dict(orientation=\"h\", yanchor=\"bottom\", y=1.02, xanchor=\"center\", x=0.5),\n",
        "    template=\"plotly_white\"\n",
        ")\n",
        "\n",
        "# Segundo gráfico: Ventas reales y predicciones no ajustadas\n",
        "fig_no_ajustadas = go.Figure()\n",
        "\n",
        "# Añadir la línea de ventas reales\n",
        "fig_no_ajustadas.add_trace(go.Scatter(\n",
        "    x=sales_actual['DATE'],\n",
        "    y=sales_actual['AMOUNT'],\n",
        "    mode='lines+markers',\n",
        "    name='Ventas Reales (Actual)',\n",
        "    line=dict(color='blue')\n",
        "))\n",
        "\n",
        "# Añadir cada línea de predicción no ajustada\n",
        "for forecast_type in predicciones_no_ajustadas:\n",
        "    forecast_data = df_forecast[df_forecast['FORECAST'] == forecast_type]\n",
        "    sales_forecast = forecast_data.groupby('DATE')['AMOUNT'].sum().reset_index()\n",
        "\n",
        "    fig_no_ajustadas.add_trace(go.Scatter(\n",
        "        x=sales_forecast['DATE'],\n",
        "        y=sales_forecast['AMOUNT'],\n",
        "        mode='lines+markers',\n",
        "        name=f'{forecast_type}',\n",
        "        line=dict(dash='dot')  # Línea punteada para diferenciar predicciones de las ventas reales\n",
        "    ))\n",
        "\n",
        "# Configuración del segundo gráfico con leyenda abajo a la derecha\n",
        "fig_no_ajustadas.update_layout(\n",
        "    title='Comparación de Ventas Reales vs. Predicciones No Ajustadas (España)',\n",
        "    xaxis_title='Fecha',\n",
        "    yaxis_title='Cantidad Ventas',\n",
        "    legend=dict(\n",
        "        orientation=\"h\",  # Leyenda en orientación horizontal\n",
        "        yanchor=\"bottom\",\n",
        "        y=-0.5,  # Posición vertical (parte inferior)\n",
        "        xanchor=\"right\",\n",
        "        x=1  # Posición horizontal (parte derecha)\n",
        "    ),\n",
        "    template=\"plotly_white\"\n",
        ")\n",
        "\n",
        "# Mostrar los gráficos\n",
        "fig_ajustadas.show()\n",
        "fig_no_ajustadas.show()\n"
      ],
      "metadata": {
        "colab": {
          "base_uri": "https://localhost:8080/",
          "height": 1000
        },
        "id": "cuemUsgssI8A",
        "outputId": "bb700f1c-b7ad-493a-a69b-506ac65b8771"
      },
      "execution_count": 16,
      "outputs": [
        {
          "output_type": "stream",
          "name": "stdout",
          "text": [
            "MAE para predicciones bien ajustadas:\n",
            "AI_PF: 46005.55791498145\n",
            "AI_P02F: 58108.79199575566\n",
            "AI_P03F: 88756.96772535151\n",
            "MAE para predicciones no ajustadas:\n",
            "AI_P09F: 771965.2042154823\n",
            "AI_P05F: 647076.8007885476\n",
            "AI_P11F: 791807.6399568405\n",
            "AI_P04F: 637157.4767797586\n",
            "AI_P12F: 793149.4975949316\n",
            "AI_P06F: 738663.2382129284\n",
            "AI_P08F: 740606.2375650405\n",
            "AI_P07F: 751313.7395571526\n",
            "AI_P10F: 755036.971687566\n"
          ]
        },
        {
          "output_type": "display_data",
          "data": {
            "text/html": [
              "<html>\n",
              "<head><meta charset=\"utf-8\" /></head>\n",
              "<body>\n",
              "    <div>            <script src=\"https://cdnjs.cloudflare.com/ajax/libs/mathjax/2.7.5/MathJax.js?config=TeX-AMS-MML_SVG\"></script><script type=\"text/javascript\">if (window.MathJax && window.MathJax.Hub && window.MathJax.Hub.Config) {window.MathJax.Hub.Config({SVG: {font: \"STIX-Web\"}});}</script>                <script type=\"text/javascript\">window.PlotlyConfig = {MathJaxConfig: 'local'};</script>\n",
              "        <script charset=\"utf-8\" src=\"https://cdn.plot.ly/plotly-2.35.2.min.js\"></script>                <div id=\"917fe4e8-be77-4555-9fd6-99f6e69a242b\" class=\"plotly-graph-div\" style=\"height:525px; width:100%;\"></div>            <script type=\"text/javascript\">                                    window.PLOTLYENV=window.PLOTLYENV || {};                                    if (document.getElementById(\"917fe4e8-be77-4555-9fd6-99f6e69a242b\")) {                    Plotly.newPlot(                        \"917fe4e8-be77-4555-9fd6-99f6e69a242b\",                        [{\"line\":{\"color\":\"blue\"},\"mode\":\"lines+markers\",\"name\":\"Ventas Reales (Actual)\",\"x\":[\"2023-01-01T00:00:00\",\"2023-02-01T00:00:00\",\"2023-03-01T00:00:00\",\"2023-04-01T00:00:00\",\"2023-05-01T00:00:00\",\"2023-06-01T00:00:00\",\"2023-07-01T00:00:00\",\"2023-08-01T00:00:00\",\"2023-09-01T00:00:00\",\"2023-10-01T00:00:00\",\"2023-11-01T00:00:00\",\"2023-12-01T00:00:00\",\"2024-01-01T00:00:00\",\"2024-02-01T00:00:00\",\"2024-03-01T00:00:00\",\"2024-04-01T00:00:00\",\"2024-05-01T00:00:00\",\"2024-06-01T00:00:00\",\"2024-07-01T00:00:00\",\"2024-08-01T00:00:00\"],\"y\":[325272.9389304911,295588.379604517,399710.27310997306,328035.2578740851,360751.156280142,439198.58628968743,496545.2361195783,564336.120819692,420041.9805910407,468425.84176011605,418006.199049298,394147.40859018476,349696.53314179694,352899.0356524695,332109.2562326968,376678.36889674753,356759.011785592,408967.746366754,506234.36278204597,537862.283643176],\"type\":\"scatter\"},{\"line\":{\"dash\":\"dash\"},\"mode\":\"lines+markers\",\"name\":\"Predicción AI_PF (MAE: 46005.56)\",\"x\":[\"2023-01-01T00:00:00\",\"2023-02-01T00:00:00\",\"2023-03-01T00:00:00\",\"2023-04-01T00:00:00\",\"2023-05-01T00:00:00\",\"2023-06-01T00:00:00\",\"2023-07-01T00:00:00\",\"2023-08-01T00:00:00\",\"2023-09-01T00:00:00\",\"2023-10-01T00:00:00\",\"2023-11-01T00:00:00\",\"2023-12-01T00:00:00\",\"2024-01-01T00:00:00\",\"2024-02-01T00:00:00\",\"2024-03-01T00:00:00\",\"2024-04-01T00:00:00\",\"2024-05-01T00:00:00\",\"2024-06-01T00:00:00\"],\"y\":[322792.0736347718,325992.88956057257,338144.68668055127,317722.7121644689,311564.74677747255,386734.0339008454,492093.6660029109,476456.3274636801,384379.4594184837,378497.62561966607,322053.43882665975,380422.3619514432,296900.98863906856,284976.16554425843,321442.29208341095,304495.1410149557,309843.96157330455,365365.73768078303],\"type\":\"scatter\"},{\"line\":{\"dash\":\"dash\"},\"mode\":\"lines+markers\",\"name\":\"Predicción AI_P02F (MAE: 58108.79)\",\"x\":[\"2023-02-01T00:00:00\",\"2023-03-01T00:00:00\",\"2023-04-01T00:00:00\",\"2023-05-01T00:00:00\",\"2023-06-01T00:00:00\",\"2023-07-01T00:00:00\",\"2023-08-01T00:00:00\",\"2023-09-01T00:00:00\",\"2023-10-01T00:00:00\",\"2023-11-01T00:00:00\",\"2023-12-01T00:00:00\",\"2024-01-01T00:00:00\",\"2024-02-01T00:00:00\",\"2024-03-01T00:00:00\",\"2024-04-01T00:00:00\",\"2024-05-01T00:00:00\",\"2024-06-01T00:00:00\",\"2024-07-01T00:00:00\"],\"y\":[308203.54758758284,323576.19337326416,301969.8234831256,272348.45077295083,354247.59184185765,451402.64948238607,463791.5267135983,375454.12497678486,390583.9405333603,344472.809329385,373332.7438356908,292159.562865641,264956.8956137717,312353.7224717349,297188.62736696395,298336.8206999268,367926.9278700205,455096.8761709017],\"type\":\"scatter\"},{\"line\":{\"dash\":\"dash\"},\"mode\":\"lines+markers\",\"name\":\"Predicción AI_P03F (MAE: 88756.97)\",\"x\":[\"2023-03-01T00:00:00\",\"2023-04-01T00:00:00\",\"2023-05-01T00:00:00\",\"2023-06-01T00:00:00\",\"2023-07-01T00:00:00\",\"2023-08-01T00:00:00\",\"2023-09-01T00:00:00\",\"2023-10-01T00:00:00\",\"2023-11-01T00:00:00\",\"2023-12-01T00:00:00\",\"2024-01-01T00:00:00\",\"2024-02-01T00:00:00\",\"2024-03-01T00:00:00\",\"2024-04-01T00:00:00\",\"2024-05-01T00:00:00\",\"2024-06-01T00:00:00\",\"2024-07-01T00:00:00\",\"2024-08-01T00:00:00\"],\"y\":[301487.1999975611,268499.83345149725,267130.7533278859,330352.52883426595,429963.11632111686,448047.4257637019,341598.3718101551,354129.1024811617,309850.7388911008,339711.4320639398,247078.27601078275,240239.99823331935,281594.63092228805,281026.7550098059,280621.014759239,332463.9665622064,414626.3440330881,444357.7514556331],\"type\":\"scatter\"}],                        {\"template\":{\"data\":{\"barpolar\":[{\"marker\":{\"line\":{\"color\":\"white\",\"width\":0.5},\"pattern\":{\"fillmode\":\"overlay\",\"size\":10,\"solidity\":0.2}},\"type\":\"barpolar\"}],\"bar\":[{\"error_x\":{\"color\":\"#2a3f5f\"},\"error_y\":{\"color\":\"#2a3f5f\"},\"marker\":{\"line\":{\"color\":\"white\",\"width\":0.5},\"pattern\":{\"fillmode\":\"overlay\",\"size\":10,\"solidity\":0.2}},\"type\":\"bar\"}],\"carpet\":[{\"aaxis\":{\"endlinecolor\":\"#2a3f5f\",\"gridcolor\":\"#C8D4E3\",\"linecolor\":\"#C8D4E3\",\"minorgridcolor\":\"#C8D4E3\",\"startlinecolor\":\"#2a3f5f\"},\"baxis\":{\"endlinecolor\":\"#2a3f5f\",\"gridcolor\":\"#C8D4E3\",\"linecolor\":\"#C8D4E3\",\"minorgridcolor\":\"#C8D4E3\",\"startlinecolor\":\"#2a3f5f\"},\"type\":\"carpet\"}],\"choropleth\":[{\"colorbar\":{\"outlinewidth\":0,\"ticks\":\"\"},\"type\":\"choropleth\"}],\"contourcarpet\":[{\"colorbar\":{\"outlinewidth\":0,\"ticks\":\"\"},\"type\":\"contourcarpet\"}],\"contour\":[{\"colorbar\":{\"outlinewidth\":0,\"ticks\":\"\"},\"colorscale\":[[0.0,\"#0d0887\"],[0.1111111111111111,\"#46039f\"],[0.2222222222222222,\"#7201a8\"],[0.3333333333333333,\"#9c179e\"],[0.4444444444444444,\"#bd3786\"],[0.5555555555555556,\"#d8576b\"],[0.6666666666666666,\"#ed7953\"],[0.7777777777777778,\"#fb9f3a\"],[0.8888888888888888,\"#fdca26\"],[1.0,\"#f0f921\"]],\"type\":\"contour\"}],\"heatmapgl\":[{\"colorbar\":{\"outlinewidth\":0,\"ticks\":\"\"},\"colorscale\":[[0.0,\"#0d0887\"],[0.1111111111111111,\"#46039f\"],[0.2222222222222222,\"#7201a8\"],[0.3333333333333333,\"#9c179e\"],[0.4444444444444444,\"#bd3786\"],[0.5555555555555556,\"#d8576b\"],[0.6666666666666666,\"#ed7953\"],[0.7777777777777778,\"#fb9f3a\"],[0.8888888888888888,\"#fdca26\"],[1.0,\"#f0f921\"]],\"type\":\"heatmapgl\"}],\"heatmap\":[{\"colorbar\":{\"outlinewidth\":0,\"ticks\":\"\"},\"colorscale\":[[0.0,\"#0d0887\"],[0.1111111111111111,\"#46039f\"],[0.2222222222222222,\"#7201a8\"],[0.3333333333333333,\"#9c179e\"],[0.4444444444444444,\"#bd3786\"],[0.5555555555555556,\"#d8576b\"],[0.6666666666666666,\"#ed7953\"],[0.7777777777777778,\"#fb9f3a\"],[0.8888888888888888,\"#fdca26\"],[1.0,\"#f0f921\"]],\"type\":\"heatmap\"}],\"histogram2dcontour\":[{\"colorbar\":{\"outlinewidth\":0,\"ticks\":\"\"},\"colorscale\":[[0.0,\"#0d0887\"],[0.1111111111111111,\"#46039f\"],[0.2222222222222222,\"#7201a8\"],[0.3333333333333333,\"#9c179e\"],[0.4444444444444444,\"#bd3786\"],[0.5555555555555556,\"#d8576b\"],[0.6666666666666666,\"#ed7953\"],[0.7777777777777778,\"#fb9f3a\"],[0.8888888888888888,\"#fdca26\"],[1.0,\"#f0f921\"]],\"type\":\"histogram2dcontour\"}],\"histogram2d\":[{\"colorbar\":{\"outlinewidth\":0,\"ticks\":\"\"},\"colorscale\":[[0.0,\"#0d0887\"],[0.1111111111111111,\"#46039f\"],[0.2222222222222222,\"#7201a8\"],[0.3333333333333333,\"#9c179e\"],[0.4444444444444444,\"#bd3786\"],[0.5555555555555556,\"#d8576b\"],[0.6666666666666666,\"#ed7953\"],[0.7777777777777778,\"#fb9f3a\"],[0.8888888888888888,\"#fdca26\"],[1.0,\"#f0f921\"]],\"type\":\"histogram2d\"}],\"histogram\":[{\"marker\":{\"pattern\":{\"fillmode\":\"overlay\",\"size\":10,\"solidity\":0.2}},\"type\":\"histogram\"}],\"mesh3d\":[{\"colorbar\":{\"outlinewidth\":0,\"ticks\":\"\"},\"type\":\"mesh3d\"}],\"parcoords\":[{\"line\":{\"colorbar\":{\"outlinewidth\":0,\"ticks\":\"\"}},\"type\":\"parcoords\"}],\"pie\":[{\"automargin\":true,\"type\":\"pie\"}],\"scatter3d\":[{\"line\":{\"colorbar\":{\"outlinewidth\":0,\"ticks\":\"\"}},\"marker\":{\"colorbar\":{\"outlinewidth\":0,\"ticks\":\"\"}},\"type\":\"scatter3d\"}],\"scattercarpet\":[{\"marker\":{\"colorbar\":{\"outlinewidth\":0,\"ticks\":\"\"}},\"type\":\"scattercarpet\"}],\"scattergeo\":[{\"marker\":{\"colorbar\":{\"outlinewidth\":0,\"ticks\":\"\"}},\"type\":\"scattergeo\"}],\"scattergl\":[{\"marker\":{\"colorbar\":{\"outlinewidth\":0,\"ticks\":\"\"}},\"type\":\"scattergl\"}],\"scattermapbox\":[{\"marker\":{\"colorbar\":{\"outlinewidth\":0,\"ticks\":\"\"}},\"type\":\"scattermapbox\"}],\"scatterpolargl\":[{\"marker\":{\"colorbar\":{\"outlinewidth\":0,\"ticks\":\"\"}},\"type\":\"scatterpolargl\"}],\"scatterpolar\":[{\"marker\":{\"colorbar\":{\"outlinewidth\":0,\"ticks\":\"\"}},\"type\":\"scatterpolar\"}],\"scatter\":[{\"fillpattern\":{\"fillmode\":\"overlay\",\"size\":10,\"solidity\":0.2},\"type\":\"scatter\"}],\"scatterternary\":[{\"marker\":{\"colorbar\":{\"outlinewidth\":0,\"ticks\":\"\"}},\"type\":\"scatterternary\"}],\"surface\":[{\"colorbar\":{\"outlinewidth\":0,\"ticks\":\"\"},\"colorscale\":[[0.0,\"#0d0887\"],[0.1111111111111111,\"#46039f\"],[0.2222222222222222,\"#7201a8\"],[0.3333333333333333,\"#9c179e\"],[0.4444444444444444,\"#bd3786\"],[0.5555555555555556,\"#d8576b\"],[0.6666666666666666,\"#ed7953\"],[0.7777777777777778,\"#fb9f3a\"],[0.8888888888888888,\"#fdca26\"],[1.0,\"#f0f921\"]],\"type\":\"surface\"}],\"table\":[{\"cells\":{\"fill\":{\"color\":\"#EBF0F8\"},\"line\":{\"color\":\"white\"}},\"header\":{\"fill\":{\"color\":\"#C8D4E3\"},\"line\":{\"color\":\"white\"}},\"type\":\"table\"}]},\"layout\":{\"annotationdefaults\":{\"arrowcolor\":\"#2a3f5f\",\"arrowhead\":0,\"arrowwidth\":1},\"autotypenumbers\":\"strict\",\"coloraxis\":{\"colorbar\":{\"outlinewidth\":0,\"ticks\":\"\"}},\"colorscale\":{\"diverging\":[[0,\"#8e0152\"],[0.1,\"#c51b7d\"],[0.2,\"#de77ae\"],[0.3,\"#f1b6da\"],[0.4,\"#fde0ef\"],[0.5,\"#f7f7f7\"],[0.6,\"#e6f5d0\"],[0.7,\"#b8e186\"],[0.8,\"#7fbc41\"],[0.9,\"#4d9221\"],[1,\"#276419\"]],\"sequential\":[[0.0,\"#0d0887\"],[0.1111111111111111,\"#46039f\"],[0.2222222222222222,\"#7201a8\"],[0.3333333333333333,\"#9c179e\"],[0.4444444444444444,\"#bd3786\"],[0.5555555555555556,\"#d8576b\"],[0.6666666666666666,\"#ed7953\"],[0.7777777777777778,\"#fb9f3a\"],[0.8888888888888888,\"#fdca26\"],[1.0,\"#f0f921\"]],\"sequentialminus\":[[0.0,\"#0d0887\"],[0.1111111111111111,\"#46039f\"],[0.2222222222222222,\"#7201a8\"],[0.3333333333333333,\"#9c179e\"],[0.4444444444444444,\"#bd3786\"],[0.5555555555555556,\"#d8576b\"],[0.6666666666666666,\"#ed7953\"],[0.7777777777777778,\"#fb9f3a\"],[0.8888888888888888,\"#fdca26\"],[1.0,\"#f0f921\"]]},\"colorway\":[\"#636efa\",\"#EF553B\",\"#00cc96\",\"#ab63fa\",\"#FFA15A\",\"#19d3f3\",\"#FF6692\",\"#B6E880\",\"#FF97FF\",\"#FECB52\"],\"font\":{\"color\":\"#2a3f5f\"},\"geo\":{\"bgcolor\":\"white\",\"lakecolor\":\"white\",\"landcolor\":\"white\",\"showlakes\":true,\"showland\":true,\"subunitcolor\":\"#C8D4E3\"},\"hoverlabel\":{\"align\":\"left\"},\"hovermode\":\"closest\",\"mapbox\":{\"style\":\"light\"},\"paper_bgcolor\":\"white\",\"plot_bgcolor\":\"white\",\"polar\":{\"angularaxis\":{\"gridcolor\":\"#EBF0F8\",\"linecolor\":\"#EBF0F8\",\"ticks\":\"\"},\"bgcolor\":\"white\",\"radialaxis\":{\"gridcolor\":\"#EBF0F8\",\"linecolor\":\"#EBF0F8\",\"ticks\":\"\"}},\"scene\":{\"xaxis\":{\"backgroundcolor\":\"white\",\"gridcolor\":\"#DFE8F3\",\"gridwidth\":2,\"linecolor\":\"#EBF0F8\",\"showbackground\":true,\"ticks\":\"\",\"zerolinecolor\":\"#EBF0F8\"},\"yaxis\":{\"backgroundcolor\":\"white\",\"gridcolor\":\"#DFE8F3\",\"gridwidth\":2,\"linecolor\":\"#EBF0F8\",\"showbackground\":true,\"ticks\":\"\",\"zerolinecolor\":\"#EBF0F8\"},\"zaxis\":{\"backgroundcolor\":\"white\",\"gridcolor\":\"#DFE8F3\",\"gridwidth\":2,\"linecolor\":\"#EBF0F8\",\"showbackground\":true,\"ticks\":\"\",\"zerolinecolor\":\"#EBF0F8\"}},\"shapedefaults\":{\"line\":{\"color\":\"#2a3f5f\"}},\"ternary\":{\"aaxis\":{\"gridcolor\":\"#DFE8F3\",\"linecolor\":\"#A2B1C6\",\"ticks\":\"\"},\"baxis\":{\"gridcolor\":\"#DFE8F3\",\"linecolor\":\"#A2B1C6\",\"ticks\":\"\"},\"bgcolor\":\"white\",\"caxis\":{\"gridcolor\":\"#DFE8F3\",\"linecolor\":\"#A2B1C6\",\"ticks\":\"\"}},\"title\":{\"x\":0.05},\"xaxis\":{\"automargin\":true,\"gridcolor\":\"#EBF0F8\",\"linecolor\":\"#EBF0F8\",\"ticks\":\"\",\"title\":{\"standoff\":15},\"zerolinecolor\":\"#EBF0F8\",\"zerolinewidth\":2},\"yaxis\":{\"automargin\":true,\"gridcolor\":\"#EBF0F8\",\"linecolor\":\"#EBF0F8\",\"ticks\":\"\",\"title\":{\"standoff\":15},\"zerolinecolor\":\"#EBF0F8\",\"zerolinewidth\":2}}},\"legend\":{\"orientation\":\"h\",\"yanchor\":\"bottom\",\"y\":1.02,\"xanchor\":\"center\",\"x\":0.5},\"title\":{\"text\":\"Comparación de Ventas Reales vs. Predicciones Ajustadas (España)\"},\"xaxis\":{\"title\":{\"text\":\"Fecha\"}},\"yaxis\":{\"title\":{\"text\":\"Cantidad Ventas\"}}},                        {\"responsive\": true}                    ).then(function(){\n",
              "                            \n",
              "var gd = document.getElementById('917fe4e8-be77-4555-9fd6-99f6e69a242b');\n",
              "var x = new MutationObserver(function (mutations, observer) {{\n",
              "        var display = window.getComputedStyle(gd).display;\n",
              "        if (!display || display === 'none') {{\n",
              "            console.log([gd, 'removed!']);\n",
              "            Plotly.purge(gd);\n",
              "            observer.disconnect();\n",
              "        }}\n",
              "}});\n",
              "\n",
              "// Listen for the removal of the full notebook cells\n",
              "var notebookContainer = gd.closest('#notebook-container');\n",
              "if (notebookContainer) {{\n",
              "    x.observe(notebookContainer, {childList: true});\n",
              "}}\n",
              "\n",
              "// Listen for the clearing of the current output cell\n",
              "var outputEl = gd.closest('.output');\n",
              "if (outputEl) {{\n",
              "    x.observe(outputEl, {childList: true});\n",
              "}}\n",
              "\n",
              "                        })                };                            </script>        </div>\n",
              "</body>\n",
              "</html>"
            ]
          },
          "metadata": {}
        },
        {
          "output_type": "display_data",
          "data": {
            "text/html": [
              "<html>\n",
              "<head><meta charset=\"utf-8\" /></head>\n",
              "<body>\n",
              "    <div>            <script src=\"https://cdnjs.cloudflare.com/ajax/libs/mathjax/2.7.5/MathJax.js?config=TeX-AMS-MML_SVG\"></script><script type=\"text/javascript\">if (window.MathJax && window.MathJax.Hub && window.MathJax.Hub.Config) {window.MathJax.Hub.Config({SVG: {font: \"STIX-Web\"}});}</script>                <script type=\"text/javascript\">window.PlotlyConfig = {MathJaxConfig: 'local'};</script>\n",
              "        <script charset=\"utf-8\" src=\"https://cdn.plot.ly/plotly-2.35.2.min.js\"></script>                <div id=\"ff1ab073-9e25-461a-a3e2-c33fc7cba779\" class=\"plotly-graph-div\" style=\"height:525px; width:100%;\"></div>            <script type=\"text/javascript\">                                    window.PLOTLYENV=window.PLOTLYENV || {};                                    if (document.getElementById(\"ff1ab073-9e25-461a-a3e2-c33fc7cba779\")) {                    Plotly.newPlot(                        \"ff1ab073-9e25-461a-a3e2-c33fc7cba779\",                        [{\"line\":{\"color\":\"blue\"},\"mode\":\"lines+markers\",\"name\":\"Ventas Reales (Actual)\",\"x\":[\"2023-01-01T00:00:00\",\"2023-02-01T00:00:00\",\"2023-03-01T00:00:00\",\"2023-04-01T00:00:00\",\"2023-05-01T00:00:00\",\"2023-06-01T00:00:00\",\"2023-07-01T00:00:00\",\"2023-08-01T00:00:00\",\"2023-09-01T00:00:00\",\"2023-10-01T00:00:00\",\"2023-11-01T00:00:00\",\"2023-12-01T00:00:00\",\"2024-01-01T00:00:00\",\"2024-02-01T00:00:00\",\"2024-03-01T00:00:00\",\"2024-04-01T00:00:00\",\"2024-05-01T00:00:00\",\"2024-06-01T00:00:00\",\"2024-07-01T00:00:00\",\"2024-08-01T00:00:00\"],\"y\":[325272.9389304911,295588.379604517,399710.27310997306,328035.2578740851,360751.156280142,439198.58628968743,496545.2361195783,564336.120819692,420041.9805910407,468425.84176011605,418006.199049298,394147.40859018476,349696.53314179694,352899.0356524695,332109.2562326968,376678.36889674753,356759.011785592,408967.746366754,506234.36278204597,537862.283643176],\"type\":\"scatter\"},{\"line\":{\"dash\":\"dot\"},\"mode\":\"lines+markers\",\"name\":\"AI_P09F\",\"x\":[\"2023-09-01T00:00:00\",\"2023-10-01T00:00:00\",\"2023-11-01T00:00:00\",\"2023-12-01T00:00:00\",\"2024-01-01T00:00:00\",\"2024-02-01T00:00:00\",\"2024-03-01T00:00:00\",\"2024-04-01T00:00:00\",\"2024-05-01T00:00:00\",\"2024-06-01T00:00:00\",\"2024-07-01T00:00:00\",\"2024-08-01T00:00:00\",\"2024-09-01T00:00:00\",\"2024-10-01T00:00:00\",\"2024-11-01T00:00:00\",\"2024-12-01T00:00:00\",\"2025-01-01T00:00:00\",\"2025-02-01T00:00:00\"],\"y\":[1185710.0284455419,1189270.157892856,1084122.811302452,1134638.98519854,972171.5942591785,933234.2186021227,1110625.0516304113,1047371.7159636677,1092549.9933546574,1270420.6142134892,1555064.8044494647,1610230.5037653227,1408685.4073517295,1406732.9311265415,1308496.9390983847,1366374.1803771895,1174584.3488525697,1149646.143513291],\"type\":\"scatter\"},{\"line\":{\"dash\":\"dot\"},\"mode\":\"lines+markers\",\"name\":\"AI_P05F\",\"x\":[\"2023-05-01T00:00:00\",\"2023-06-01T00:00:00\",\"2023-07-01T00:00:00\",\"2023-08-01T00:00:00\",\"2023-09-01T00:00:00\",\"2023-10-01T00:00:00\",\"2023-11-01T00:00:00\",\"2023-12-01T00:00:00\",\"2024-01-01T00:00:00\",\"2024-02-01T00:00:00\",\"2024-03-01T00:00:00\",\"2024-04-01T00:00:00\",\"2024-05-01T00:00:00\",\"2024-06-01T00:00:00\",\"2024-07-01T00:00:00\",\"2024-08-01T00:00:00\",\"2024-09-01T00:00:00\",\"2024-10-01T00:00:00\"],\"y\":[843344.5372541754,1011822.0367282263,1258299.4270389655,1321531.8155695922,1077272.9255840378,1071676.7810795035,987197.6144100437,1040471.2338496018,852741.4362615887,815336.7702193036,961614.1352245394,925014.1139770206,947985.1549682122,1138110.0865147933,1412271.0874732123,1471198.7844649642,1261109.5330015854,1285235.4711306728],\"type\":\"scatter\"},{\"line\":{\"dash\":\"dot\"},\"mode\":\"lines+markers\",\"name\":\"AI_P11F\",\"x\":[\"2023-11-01T00:00:00\",\"2023-12-01T00:00:00\",\"2024-01-01T00:00:00\",\"2024-02-01T00:00:00\",\"2024-03-01T00:00:00\",\"2024-04-01T00:00:00\",\"2024-05-01T00:00:00\",\"2024-06-01T00:00:00\",\"2024-07-01T00:00:00\",\"2024-08-01T00:00:00\",\"2024-09-01T00:00:00\",\"2024-10-01T00:00:00\",\"2024-11-01T00:00:00\",\"2024-12-01T00:00:00\",\"2025-01-01T00:00:00\",\"2025-02-01T00:00:00\",\"2025-03-01T00:00:00\",\"2025-04-01T00:00:00\"],\"y\":[1104537.9971263122,1155668.7543833635,1002037.8103236213,918567.9437168391,1125916.769478922,1050978.7603362936,1096526.8517669998,1286403.6197220788,1569598.312684417,1641199.7861703208,1403974.4438978522,1412260.0309221684,1295792.062082831,1368103.5032549878,1143166.029421353,1110443.408050165,1346572.6429325012,1241623.146079499],\"type\":\"scatter\"},{\"line\":{\"dash\":\"dot\"},\"mode\":\"lines+markers\",\"name\":\"AI_P04F\",\"x\":[\"2023-04-01T00:00:00\",\"2023-05-01T00:00:00\",\"2023-06-01T00:00:00\",\"2023-07-01T00:00:00\",\"2023-08-01T00:00:00\",\"2023-09-01T00:00:00\",\"2023-10-01T00:00:00\",\"2023-11-01T00:00:00\",\"2023-12-01T00:00:00\",\"2024-01-01T00:00:00\",\"2024-02-01T00:00:00\",\"2024-03-01T00:00:00\",\"2024-04-01T00:00:00\",\"2024-05-01T00:00:00\",\"2024-06-01T00:00:00\",\"2024-07-01T00:00:00\",\"2024-08-01T00:00:00\",\"2024-09-01T00:00:00\"],\"y\":[804853.3470297804,829069.4564111473,997554.0940642123,1230186.357790193,1298025.885807847,1077610.3865048392,1093654.8315690204,1003100.2431359878,1046899.844153764,868943.7606474923,844564.2276828261,994713.643671643,927538.1640362075,943751.5473537908,1136131.5758500597,1385367.557642587,1460406.5677796009,1281027.8981031002],\"type\":\"scatter\"},{\"line\":{\"dash\":\"dot\"},\"mode\":\"lines+markers\",\"name\":\"AI_P12F\",\"x\":[\"2023-12-01T00:00:00\",\"2024-01-01T00:00:00\",\"2024-02-01T00:00:00\",\"2024-03-01T00:00:00\",\"2024-04-01T00:00:00\",\"2024-05-01T00:00:00\",\"2024-06-01T00:00:00\",\"2024-07-01T00:00:00\",\"2024-08-01T00:00:00\",\"2024-09-01T00:00:00\",\"2024-10-01T00:00:00\",\"2024-11-01T00:00:00\",\"2024-12-01T00:00:00\",\"2025-01-01T00:00:00\",\"2025-02-01T00:00:00\",\"2025-03-01T00:00:00\",\"2025-04-01T00:00:00\",\"2025-05-01T00:00:00\"],\"y\":[1159320.8253268213,981364.5829164354,936602.320270522,1150374.860429465,1041456.0381407103,1078711.9578883399,1264788.116568541,1545284.6158278417,1595796.1680771713,1394043.403526144,1415691.5813358559,1300388.9483966222,1384215.1416428161,1142686.1750148914,1142342.010146326,1338523.6646964732,1229338.4313013034,1245423.682630845],\"type\":\"scatter\"},{\"line\":{\"dash\":\"dot\"},\"mode\":\"lines+markers\",\"name\":\"AI_P06F\",\"x\":[\"2023-06-01T00:00:00\",\"2023-07-01T00:00:00\",\"2023-08-01T00:00:00\",\"2023-09-01T00:00:00\",\"2023-10-01T00:00:00\",\"2023-11-01T00:00:00\",\"2023-12-01T00:00:00\",\"2024-01-01T00:00:00\",\"2024-02-01T00:00:00\",\"2024-03-01T00:00:00\",\"2024-04-01T00:00:00\",\"2024-05-01T00:00:00\",\"2024-06-01T00:00:00\",\"2024-07-01T00:00:00\",\"2024-08-01T00:00:00\",\"2024-09-01T00:00:00\",\"2024-10-01T00:00:00\",\"2024-11-01T00:00:00\"],\"y\":[1044951.8268033576,1312591.6816401046,1371015.3896955163,1156993.2487909605,1161936.5848954392,1055636.0170295264,1132477.0340687586,930833.8698909084,912523.046706849,1061169.2058379264,1012260.479017287,1031160.7082774333,1224587.8252209015,1522359.5788311507,1571360.048208682,1341239.841147942,1348647.4897691892,1240532.0322842668],\"type\":\"scatter\"},{\"line\":{\"dash\":\"dot\"},\"mode\":\"lines+markers\",\"name\":\"AI_P08F\",\"x\":[\"2023-08-01T00:00:00\",\"2023-09-01T00:00:00\",\"2023-10-01T00:00:00\",\"2023-11-01T00:00:00\",\"2023-12-01T00:00:00\",\"2024-01-01T00:00:00\",\"2024-02-01T00:00:00\",\"2024-03-01T00:00:00\",\"2024-04-01T00:00:00\",\"2024-05-01T00:00:00\",\"2024-06-01T00:00:00\",\"2024-07-01T00:00:00\",\"2024-08-01T00:00:00\",\"2024-09-01T00:00:00\",\"2024-10-01T00:00:00\",\"2024-11-01T00:00:00\",\"2024-12-01T00:00:00\",\"2025-01-01T00:00:00\"],\"y\":[1389195.7411796649,1159459.9476688062,1175458.4492989995,1069315.8640883365,1132635.6154963747,945576.3192010305,912087.9673552387,1056386.034821786,1010449.6151725788,1019996.8234062304,1207712.4506163544,1492220.1744922563,1543550.2348594787,1342265.1950493343,1347979.6214068616,1243143.2821930074,1341790.4777948386,1122531.9319821338],\"type\":\"scatter\"},{\"line\":{\"dash\":\"dot\"},\"mode\":\"lines+markers\",\"name\":\"AI_P07F\",\"x\":[\"2023-07-01T00:00:00\",\"2023-08-01T00:00:00\",\"2023-09-01T00:00:00\",\"2023-10-01T00:00:00\",\"2023-11-01T00:00:00\",\"2023-12-01T00:00:00\",\"2024-01-01T00:00:00\",\"2024-02-01T00:00:00\",\"2024-03-01T00:00:00\",\"2024-04-01T00:00:00\",\"2024-05-01T00:00:00\",\"2024-06-01T00:00:00\",\"2024-07-01T00:00:00\",\"2024-08-01T00:00:00\",\"2024-09-01T00:00:00\",\"2024-10-01T00:00:00\",\"2024-11-01T00:00:00\",\"2024-12-01T00:00:00\"],\"y\":[1344522.216655629,1397379.3264021156,1184408.0478129291,1157758.361605097,1057556.3854162137,1136533.5678099408,943044.8095408481,913803.0481500567,1052500.4849413862,1005143.3009139926,1025110.9476344219,1219380.730006896,1513831.664294871,1550128.848046927,1337435.0094337247,1355281.354489161,1230042.2030150031,1328779.4060062426],\"type\":\"scatter\"},{\"line\":{\"dash\":\"dot\"},\"mode\":\"lines+markers\",\"name\":\"AI_P10F\",\"x\":[\"2023-10-01T00:00:00\",\"2023-11-01T00:00:00\",\"2023-12-01T00:00:00\",\"2024-01-01T00:00:00\",\"2024-02-01T00:00:00\",\"2024-03-01T00:00:00\",\"2024-04-01T00:00:00\",\"2024-05-01T00:00:00\",\"2024-06-01T00:00:00\",\"2024-07-01T00:00:00\",\"2024-08-01T00:00:00\",\"2024-09-01T00:00:00\",\"2024-10-01T00:00:00\",\"2024-11-01T00:00:00\",\"2024-12-01T00:00:00\",\"2025-01-01T00:00:00\",\"2025-02-01T00:00:00\",\"2025-03-01T00:00:00\"],\"y\":[1182497.9940536679,1074361.4644515703,1155431.6805350038,966988.2971711804,932967.0934122807,1114291.0238129876,1023744.013650418,1061866.1607492277,1226262.0673850656,1515363.973746002,1553418.9674967001,1351726.249330766,1357943.2018901086,1252721.656736499,1347158.7410593284,1137203.8271882432,1095613.3782341878,1310724.725306606],\"type\":\"scatter\"}],                        {\"template\":{\"data\":{\"barpolar\":[{\"marker\":{\"line\":{\"color\":\"white\",\"width\":0.5},\"pattern\":{\"fillmode\":\"overlay\",\"size\":10,\"solidity\":0.2}},\"type\":\"barpolar\"}],\"bar\":[{\"error_x\":{\"color\":\"#2a3f5f\"},\"error_y\":{\"color\":\"#2a3f5f\"},\"marker\":{\"line\":{\"color\":\"white\",\"width\":0.5},\"pattern\":{\"fillmode\":\"overlay\",\"size\":10,\"solidity\":0.2}},\"type\":\"bar\"}],\"carpet\":[{\"aaxis\":{\"endlinecolor\":\"#2a3f5f\",\"gridcolor\":\"#C8D4E3\",\"linecolor\":\"#C8D4E3\",\"minorgridcolor\":\"#C8D4E3\",\"startlinecolor\":\"#2a3f5f\"},\"baxis\":{\"endlinecolor\":\"#2a3f5f\",\"gridcolor\":\"#C8D4E3\",\"linecolor\":\"#C8D4E3\",\"minorgridcolor\":\"#C8D4E3\",\"startlinecolor\":\"#2a3f5f\"},\"type\":\"carpet\"}],\"choropleth\":[{\"colorbar\":{\"outlinewidth\":0,\"ticks\":\"\"},\"type\":\"choropleth\"}],\"contourcarpet\":[{\"colorbar\":{\"outlinewidth\":0,\"ticks\":\"\"},\"type\":\"contourcarpet\"}],\"contour\":[{\"colorbar\":{\"outlinewidth\":0,\"ticks\":\"\"},\"colorscale\":[[0.0,\"#0d0887\"],[0.1111111111111111,\"#46039f\"],[0.2222222222222222,\"#7201a8\"],[0.3333333333333333,\"#9c179e\"],[0.4444444444444444,\"#bd3786\"],[0.5555555555555556,\"#d8576b\"],[0.6666666666666666,\"#ed7953\"],[0.7777777777777778,\"#fb9f3a\"],[0.8888888888888888,\"#fdca26\"],[1.0,\"#f0f921\"]],\"type\":\"contour\"}],\"heatmapgl\":[{\"colorbar\":{\"outlinewidth\":0,\"ticks\":\"\"},\"colorscale\":[[0.0,\"#0d0887\"],[0.1111111111111111,\"#46039f\"],[0.2222222222222222,\"#7201a8\"],[0.3333333333333333,\"#9c179e\"],[0.4444444444444444,\"#bd3786\"],[0.5555555555555556,\"#d8576b\"],[0.6666666666666666,\"#ed7953\"],[0.7777777777777778,\"#fb9f3a\"],[0.8888888888888888,\"#fdca26\"],[1.0,\"#f0f921\"]],\"type\":\"heatmapgl\"}],\"heatmap\":[{\"colorbar\":{\"outlinewidth\":0,\"ticks\":\"\"},\"colorscale\":[[0.0,\"#0d0887\"],[0.1111111111111111,\"#46039f\"],[0.2222222222222222,\"#7201a8\"],[0.3333333333333333,\"#9c179e\"],[0.4444444444444444,\"#bd3786\"],[0.5555555555555556,\"#d8576b\"],[0.6666666666666666,\"#ed7953\"],[0.7777777777777778,\"#fb9f3a\"],[0.8888888888888888,\"#fdca26\"],[1.0,\"#f0f921\"]],\"type\":\"heatmap\"}],\"histogram2dcontour\":[{\"colorbar\":{\"outlinewidth\":0,\"ticks\":\"\"},\"colorscale\":[[0.0,\"#0d0887\"],[0.1111111111111111,\"#46039f\"],[0.2222222222222222,\"#7201a8\"],[0.3333333333333333,\"#9c179e\"],[0.4444444444444444,\"#bd3786\"],[0.5555555555555556,\"#d8576b\"],[0.6666666666666666,\"#ed7953\"],[0.7777777777777778,\"#fb9f3a\"],[0.8888888888888888,\"#fdca26\"],[1.0,\"#f0f921\"]],\"type\":\"histogram2dcontour\"}],\"histogram2d\":[{\"colorbar\":{\"outlinewidth\":0,\"ticks\":\"\"},\"colorscale\":[[0.0,\"#0d0887\"],[0.1111111111111111,\"#46039f\"],[0.2222222222222222,\"#7201a8\"],[0.3333333333333333,\"#9c179e\"],[0.4444444444444444,\"#bd3786\"],[0.5555555555555556,\"#d8576b\"],[0.6666666666666666,\"#ed7953\"],[0.7777777777777778,\"#fb9f3a\"],[0.8888888888888888,\"#fdca26\"],[1.0,\"#f0f921\"]],\"type\":\"histogram2d\"}],\"histogram\":[{\"marker\":{\"pattern\":{\"fillmode\":\"overlay\",\"size\":10,\"solidity\":0.2}},\"type\":\"histogram\"}],\"mesh3d\":[{\"colorbar\":{\"outlinewidth\":0,\"ticks\":\"\"},\"type\":\"mesh3d\"}],\"parcoords\":[{\"line\":{\"colorbar\":{\"outlinewidth\":0,\"ticks\":\"\"}},\"type\":\"parcoords\"}],\"pie\":[{\"automargin\":true,\"type\":\"pie\"}],\"scatter3d\":[{\"line\":{\"colorbar\":{\"outlinewidth\":0,\"ticks\":\"\"}},\"marker\":{\"colorbar\":{\"outlinewidth\":0,\"ticks\":\"\"}},\"type\":\"scatter3d\"}],\"scattercarpet\":[{\"marker\":{\"colorbar\":{\"outlinewidth\":0,\"ticks\":\"\"}},\"type\":\"scattercarpet\"}],\"scattergeo\":[{\"marker\":{\"colorbar\":{\"outlinewidth\":0,\"ticks\":\"\"}},\"type\":\"scattergeo\"}],\"scattergl\":[{\"marker\":{\"colorbar\":{\"outlinewidth\":0,\"ticks\":\"\"}},\"type\":\"scattergl\"}],\"scattermapbox\":[{\"marker\":{\"colorbar\":{\"outlinewidth\":0,\"ticks\":\"\"}},\"type\":\"scattermapbox\"}],\"scatterpolargl\":[{\"marker\":{\"colorbar\":{\"outlinewidth\":0,\"ticks\":\"\"}},\"type\":\"scatterpolargl\"}],\"scatterpolar\":[{\"marker\":{\"colorbar\":{\"outlinewidth\":0,\"ticks\":\"\"}},\"type\":\"scatterpolar\"}],\"scatter\":[{\"fillpattern\":{\"fillmode\":\"overlay\",\"size\":10,\"solidity\":0.2},\"type\":\"scatter\"}],\"scatterternary\":[{\"marker\":{\"colorbar\":{\"outlinewidth\":0,\"ticks\":\"\"}},\"type\":\"scatterternary\"}],\"surface\":[{\"colorbar\":{\"outlinewidth\":0,\"ticks\":\"\"},\"colorscale\":[[0.0,\"#0d0887\"],[0.1111111111111111,\"#46039f\"],[0.2222222222222222,\"#7201a8\"],[0.3333333333333333,\"#9c179e\"],[0.4444444444444444,\"#bd3786\"],[0.5555555555555556,\"#d8576b\"],[0.6666666666666666,\"#ed7953\"],[0.7777777777777778,\"#fb9f3a\"],[0.8888888888888888,\"#fdca26\"],[1.0,\"#f0f921\"]],\"type\":\"surface\"}],\"table\":[{\"cells\":{\"fill\":{\"color\":\"#EBF0F8\"},\"line\":{\"color\":\"white\"}},\"header\":{\"fill\":{\"color\":\"#C8D4E3\"},\"line\":{\"color\":\"white\"}},\"type\":\"table\"}]},\"layout\":{\"annotationdefaults\":{\"arrowcolor\":\"#2a3f5f\",\"arrowhead\":0,\"arrowwidth\":1},\"autotypenumbers\":\"strict\",\"coloraxis\":{\"colorbar\":{\"outlinewidth\":0,\"ticks\":\"\"}},\"colorscale\":{\"diverging\":[[0,\"#8e0152\"],[0.1,\"#c51b7d\"],[0.2,\"#de77ae\"],[0.3,\"#f1b6da\"],[0.4,\"#fde0ef\"],[0.5,\"#f7f7f7\"],[0.6,\"#e6f5d0\"],[0.7,\"#b8e186\"],[0.8,\"#7fbc41\"],[0.9,\"#4d9221\"],[1,\"#276419\"]],\"sequential\":[[0.0,\"#0d0887\"],[0.1111111111111111,\"#46039f\"],[0.2222222222222222,\"#7201a8\"],[0.3333333333333333,\"#9c179e\"],[0.4444444444444444,\"#bd3786\"],[0.5555555555555556,\"#d8576b\"],[0.6666666666666666,\"#ed7953\"],[0.7777777777777778,\"#fb9f3a\"],[0.8888888888888888,\"#fdca26\"],[1.0,\"#f0f921\"]],\"sequentialminus\":[[0.0,\"#0d0887\"],[0.1111111111111111,\"#46039f\"],[0.2222222222222222,\"#7201a8\"],[0.3333333333333333,\"#9c179e\"],[0.4444444444444444,\"#bd3786\"],[0.5555555555555556,\"#d8576b\"],[0.6666666666666666,\"#ed7953\"],[0.7777777777777778,\"#fb9f3a\"],[0.8888888888888888,\"#fdca26\"],[1.0,\"#f0f921\"]]},\"colorway\":[\"#636efa\",\"#EF553B\",\"#00cc96\",\"#ab63fa\",\"#FFA15A\",\"#19d3f3\",\"#FF6692\",\"#B6E880\",\"#FF97FF\",\"#FECB52\"],\"font\":{\"color\":\"#2a3f5f\"},\"geo\":{\"bgcolor\":\"white\",\"lakecolor\":\"white\",\"landcolor\":\"white\",\"showlakes\":true,\"showland\":true,\"subunitcolor\":\"#C8D4E3\"},\"hoverlabel\":{\"align\":\"left\"},\"hovermode\":\"closest\",\"mapbox\":{\"style\":\"light\"},\"paper_bgcolor\":\"white\",\"plot_bgcolor\":\"white\",\"polar\":{\"angularaxis\":{\"gridcolor\":\"#EBF0F8\",\"linecolor\":\"#EBF0F8\",\"ticks\":\"\"},\"bgcolor\":\"white\",\"radialaxis\":{\"gridcolor\":\"#EBF0F8\",\"linecolor\":\"#EBF0F8\",\"ticks\":\"\"}},\"scene\":{\"xaxis\":{\"backgroundcolor\":\"white\",\"gridcolor\":\"#DFE8F3\",\"gridwidth\":2,\"linecolor\":\"#EBF0F8\",\"showbackground\":true,\"ticks\":\"\",\"zerolinecolor\":\"#EBF0F8\"},\"yaxis\":{\"backgroundcolor\":\"white\",\"gridcolor\":\"#DFE8F3\",\"gridwidth\":2,\"linecolor\":\"#EBF0F8\",\"showbackground\":true,\"ticks\":\"\",\"zerolinecolor\":\"#EBF0F8\"},\"zaxis\":{\"backgroundcolor\":\"white\",\"gridcolor\":\"#DFE8F3\",\"gridwidth\":2,\"linecolor\":\"#EBF0F8\",\"showbackground\":true,\"ticks\":\"\",\"zerolinecolor\":\"#EBF0F8\"}},\"shapedefaults\":{\"line\":{\"color\":\"#2a3f5f\"}},\"ternary\":{\"aaxis\":{\"gridcolor\":\"#DFE8F3\",\"linecolor\":\"#A2B1C6\",\"ticks\":\"\"},\"baxis\":{\"gridcolor\":\"#DFE8F3\",\"linecolor\":\"#A2B1C6\",\"ticks\":\"\"},\"bgcolor\":\"white\",\"caxis\":{\"gridcolor\":\"#DFE8F3\",\"linecolor\":\"#A2B1C6\",\"ticks\":\"\"}},\"title\":{\"x\":0.05},\"xaxis\":{\"automargin\":true,\"gridcolor\":\"#EBF0F8\",\"linecolor\":\"#EBF0F8\",\"ticks\":\"\",\"title\":{\"standoff\":15},\"zerolinecolor\":\"#EBF0F8\",\"zerolinewidth\":2},\"yaxis\":{\"automargin\":true,\"gridcolor\":\"#EBF0F8\",\"linecolor\":\"#EBF0F8\",\"ticks\":\"\",\"title\":{\"standoff\":15},\"zerolinecolor\":\"#EBF0F8\",\"zerolinewidth\":2}}},\"legend\":{\"orientation\":\"h\",\"yanchor\":\"bottom\",\"y\":-0.5,\"xanchor\":\"right\",\"x\":1},\"title\":{\"text\":\"Comparación de Ventas Reales vs. Predicciones No Ajustadas (España)\"},\"xaxis\":{\"title\":{\"text\":\"Fecha\"}},\"yaxis\":{\"title\":{\"text\":\"Cantidad Ventas\"}}},                        {\"responsive\": true}                    ).then(function(){\n",
              "                            \n",
              "var gd = document.getElementById('ff1ab073-9e25-461a-a3e2-c33fc7cba779');\n",
              "var x = new MutationObserver(function (mutations, observer) {{\n",
              "        var display = window.getComputedStyle(gd).display;\n",
              "        if (!display || display === 'none') {{\n",
              "            console.log([gd, 'removed!']);\n",
              "            Plotly.purge(gd);\n",
              "            observer.disconnect();\n",
              "        }}\n",
              "}});\n",
              "\n",
              "// Listen for the removal of the full notebook cells\n",
              "var notebookContainer = gd.closest('#notebook-container');\n",
              "if (notebookContainer) {{\n",
              "    x.observe(notebookContainer, {childList: true});\n",
              "}}\n",
              "\n",
              "// Listen for the clearing of the current output cell\n",
              "var outputEl = gd.closest('.output');\n",
              "if (outputEl) {{\n",
              "    x.observe(outputEl, {childList: true});\n",
              "}}\n",
              "\n",
              "                        })                };                            </script>        </div>\n",
              "</body>\n",
              "</html>"
            ]
          },
          "metadata": {}
        }
      ]
    },
    {
      "cell_type": "markdown",
      "source": [
        "Podemos observar que en el primer gráfico, las predicciones realizadas anualmente, en enero y febrero, se ajustan a los valores a los actuals considerablemente bien, con unos valores de MAE bastante bajos en comparación con los tipos de datos que estamos utilizando.\n",
        "Por otro lado, la segunda gráfica muestra predicciones mal hechas, pues existen valores duplicados y por lo tanto, dan valores más altos. No se representa el MAE sobre el gráfico ya que partimos de la base de que la predicción es errónea.\n"
      ],
      "metadata": {
        "id": "YMPv945jsL9J"
      }
    }
  ]
}